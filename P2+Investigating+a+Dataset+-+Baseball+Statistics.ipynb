{
 "cells": [
  {
   "cell_type": "markdown",
   "metadata": {},
   "source": [
    "<h1><center><font color='blue'>P2-Investigating a Dataset:</font></center></h1>\n",
    "<h1><center><font color='blue'>\"Challenging Baseball's Popular Beliefs Using Data\"</font></center></h1>"
   ]
  },
  {
   "cell_type": "markdown",
   "metadata": {},
   "source": [
    "For over 100 years, the sport of baseball has produced timeless memories and throughout it's history, many popular beliefs have been passed down from generation to generation about the game. For example, anyone who has followed the sport has heard one tme or another that \"pitching wins championships.\" But does it really? Can an organization really \"buy a championship\"? My goal for this project is to challenge the validity of baseball's most popular beliefs by analyzing the various data that is available. Hopefully by the end of this investigation we can all have a better insight into which baseball expressions are true or false. \n",
    "\n",
    "I have chosen to explore the following baseball expressions:\n",
    "\n",
    "<a href=\"#expression1\">1.) \"Money buys championships.\"</a><br>\n",
    "<a href=\"#expression2\">2.) \"Money buys talent.\"</a><br>\n",
    "<a href=\"#expression3\">3.) \"Pitching wins championships.\"</a><br>\n",
    "<a href=\"#expression4\">4.) \"The best hitters are left-handed.\"</a><br>"
   ]
  },
  {
   "cell_type": "markdown",
   "metadata": {},
   "source": [
    "<div id=\"expression1\"><h2><font color= green>1. \"Money Buys Championships\"</font></h3></div>\n",
    "\n",
    "To determine if this saying is true or false, I will answer the following questions:<br>\n",
    "\n",
    "1a.) What is the average team salary of the World Series Champion compared to the league average from 1985-2015?<br>\n",
    "1b.) How often are the World Series Champion salaries greater than the league average?"
   ]
  },
  {
   "cell_type": "markdown",
   "metadata": {},
   "source": [
    "<h3>Observation:</h3><br>\n",
    "The average salary of the league averages from 1985-2016 was 2,054,951. \n",
    "<br><br>\n",
    "The average salary of the World Series champions from 1985-2016 was 2,674,724.\n",
    "<br><br>\n",
    "Based on the results, during the 30 year timeframe between 1985-2016, the average salary of the World Series winner was greater than the average league salary a total of 25 times, which translates to 83% of the time. In comparison, the average league salary was only greater than the World Series Champion's a mere 17% of the time, occurring only 5 times.<br><br>\n",
    "\n",
    "I think it's safe to assume that the teams who spend more money generally have a greater chance of winning the World Series.\n",
    "<h3>Verdict: <font color='red'>TRUE*</font></h3>\n",
    "\n",
    "*Although the outcome of my analysis may support the expression, \"money buys championships\", it may be a bit misleading. For one, I am simply testing whether or not the salary was greater than the league average and while in theory this may seem sufficient, it doesn't necessarily possess strong validation because it doesn't take into consideration the difference between the two. For example, the league average in 2010 was 3,278,746 and the WS Champ was 3,522,904. The WS Champ's salary was greater than that of the league average, but only by about 7%. That 7% should be accounted for somewhere in the analysis to help represent a more thorough investigation. "
   ]
  },
  {
   "cell_type": "markdown",
   "metadata": {},
   "source": [
    "Explore the code below to see what was used to analyze the data."
   ]
  },
  {
   "cell_type": "code",
   "execution_count": 1,
   "metadata": {
    "collapsed": false
   },
   "outputs": [],
   "source": [
    "import pandas as pd\n",
    "import numpy as np\n",
    "import matplotlib.pyplot as plt\n",
    "import seaborn as sns\n",
    "import scipy as sp"
   ]
  },
  {
   "cell_type": "markdown",
   "metadata": {},
   "source": [
    "<h4>1a.) Find the average salaries from 1985-2016.</h4>"
   ]
  },
  {
   "cell_type": "code",
   "execution_count": 28,
   "metadata": {
    "collapsed": false
   },
   "outputs": [
    {
     "name": "stdout",
     "output_type": "stream",
     "text": [
      "<class 'pandas.core.frame.DataFrame'>\n",
      "RangeIndex: 26428 entries, 0 to 26427\n",
      "Data columns (total 5 columns):\n",
      "yearID      26428 non-null int64\n",
      "teamID      26428 non-null object\n",
      "lgID        26428 non-null object\n",
      "playerID    26428 non-null object\n",
      "salary      26428 non-null int64\n",
      "dtypes: int64(2), object(3)\n",
      "memory usage: 1.0+ MB\n"
     ]
    }
   ],
   "source": [
    "# Check the Salaries dataset for any missing values\n",
    "\n",
    "salaries = pd.read_csv('Salaries.csv')\n",
    "salaries.info()"
   ]
  },
  {
   "cell_type": "code",
   "execution_count": 62,
   "metadata": {
    "collapsed": false
   },
   "outputs": [
    {
     "data": {
      "text/plain": [
       "3278746.0"
      ]
     },
     "execution_count": 62,
     "metadata": {},
     "output_type": "execute_result"
    }
   ],
   "source": [
    "# Find the average salary of the league from 1985-2016\n",
    "\n",
    "avg_league_salary = salaries.groupby('yearID')['salary'].mean()\n",
    "avg_league_salary[2010].mean()"
   ]
  },
  {
   "cell_type": "code",
   "execution_count": 56,
   "metadata": {
    "collapsed": false
   },
   "outputs": [
    {
     "data": {
      "text/plain": [
       "<matplotlib.text.Text at 0x20b8f596710>"
      ]
     },
     "execution_count": 56,
     "metadata": {},
     "output_type": "execute_result"
    },
    {
     "data": {
      "image/png": "[encoded data removed]",
      "text/plain": [
       "<matplotlib.figure.Figure at 0x20b8f5965c0>"
      ]
     },
     "metadata": {},
     "output_type": "display_data"
    }
   ],
   "source": [
    "# Plot the league salaries\n",
    "\n",
    "avg_league_salary.plot()\n",
    "plt.xlabel('Year')\n",
    "plt.ylabel('Salary')\n",
    "plt.suptitle('Average League Salary from 1985-2016')"
   ]
  },
  {
   "cell_type": "code",
   "execution_count": 31,
   "metadata": {
    "collapsed": false
   },
   "outputs": [
    {
     "name": "stdout",
     "output_type": "stream",
     "text": [
      "<class 'pandas.core.frame.DataFrame'>\n",
      "RangeIndex: 316 entries, 0 to 315\n",
      "Data columns (total 9 columns):\n",
      "yearID          316 non-null int64\n",
      "round           316 non-null object\n",
      "teamIDwinner    316 non-null object\n",
      "lgIDwinner      316 non-null object\n",
      "teamIDloser     316 non-null object\n",
      "lgIDloser       316 non-null object\n",
      "wins            316 non-null int64\n",
      "losses          316 non-null int64\n",
      "ties            316 non-null int64\n",
      "dtypes: int64(4), object(5)\n",
      "memory usage: 22.3+ KB\n"
     ]
    }
   ],
   "source": [
    "# Check the Post Season dataset for any missing values\n",
    "\n",
    "postseason = pd.read_csv('SeriesPost.csv')\n",
    "\n",
    "postseason.info()"
   ]
  },
  {
   "cell_type": "code",
   "execution_count": 63,
   "metadata": {
    "collapsed": false
   },
   "outputs": [
    {
     "name": "stderr",
     "output_type": "stream",
     "text": [
      "C:\\Anaconda\\lib\\site-packages\\pandas\\core\\frame.py:2834: SettingWithCopyWarning: \n",
      "A value is trying to be set on a copy of a slice from a DataFrame\n",
      "\n",
      "See the caveats in the documentation: http://pandas.pydata.org/pandas-docs/stable/indexing.html#indexing-view-versus-copy\n",
      "  **kwargs)\n"
     ]
    },
    {
     "data": {
      "text/plain": [
       "3522904.75"
      ]
     },
     "execution_count": 63,
     "metadata": {},
     "output_type": "execute_result"
    }
   ],
   "source": [
    "# Find the average salary of every World Series champion from 1985-2016\n",
    "\n",
    "wschamps = postseason[(postseason['yearID'] > 1984) & (postseason['round'] == 'WS')]\n",
    "wschamps.rename(columns={'teamIDwinner':'teamID'}, inplace=True)\n",
    "wschamps_salary = pd.merge(wschamps, salaries, how='left', on=['yearID','teamID'])\n",
    "wschamps_avg_salary = wschamps_salary.groupby('yearID')['salary'].mean()\n",
    "wschamps_avg_salary[2010].mean()"
   ]
  },
  {
   "cell_type": "code",
   "execution_count": 58,
   "metadata": {
    "collapsed": false
   },
   "outputs": [
    {
     "data": {
      "text/plain": [
       "<matplotlib.text.Text at 0x20b8f5f0fd0>"
      ]
     },
     "execution_count": 58,
     "metadata": {},
     "output_type": "execute_result"
    },
    {
     "data": {
      "image/png": "[encoded data removed]",
      "text/plain": [
       "<matplotlib.figure.Figure at 0x20b8f632a20>"
      ]
     },
     "metadata": {},
     "output_type": "display_data"
    }
   ],
   "source": [
    "# Plot the World Series winner salaries\n",
    "\n",
    "wschamps_avg_salary.plot()\n",
    "plt.xlabel('Year')\n",
    "plt.ylabel('Salary')\n",
    "plt.suptitle('Average World Series Winners Salary from 1985-2016')"
   ]
  },
  {
   "cell_type": "markdown",
   "metadata": {},
   "source": [
    "<h4>1b.) Now that we have the average salaries, let's compare the two.</h4>"
   ]
  },
  {
   "cell_type": "code",
   "execution_count": 59,
   "metadata": {
    "collapsed": false
   },
   "outputs": [
    {
     "data": {
      "text/html": [
       "<div>\n",
       "<table border=\"1\" class=\"dataframe\">\n",
       "  <thead>\n",
       "    <tr style=\"text-align: right;\">\n",
       "      <th></th>\n",
       "      <th>League_Salaries</th>\n",
       "      <th>WS_Salaries</th>\n",
       "      <th>Validity</th>\n",
       "    </tr>\n",
       "    <tr>\n",
       "      <th>yearID</th>\n",
       "      <th></th>\n",
       "      <th></th>\n",
       "      <th></th>\n",
       "    </tr>\n",
       "  </thead>\n",
       "  <tbody>\n",
       "    <tr>\n",
       "      <th>1985</th>\n",
       "      <td>476299</td>\n",
       "      <td>423689.954545</td>\n",
       "      <td>False</td>\n",
       "    </tr>\n",
       "    <tr>\n",
       "      <th>1986</th>\n",
       "      <td>417147</td>\n",
       "      <td>549775.500000</td>\n",
       "      <td>True</td>\n",
       "    </tr>\n",
       "    <tr>\n",
       "      <th>1987</th>\n",
       "      <td>434729</td>\n",
       "      <td>710833.333333</td>\n",
       "      <td>True</td>\n",
       "    </tr>\n",
       "    <tr>\n",
       "      <th>1988</th>\n",
       "      <td>453171</td>\n",
       "      <td>561683.833333</td>\n",
       "      <td>True</td>\n",
       "    </tr>\n",
       "    <tr>\n",
       "      <th>1989</th>\n",
       "      <td>506323</td>\n",
       "      <td>624522.800000</td>\n",
       "      <td>True</td>\n",
       "    </tr>\n",
       "  </tbody>\n",
       "</table>\n",
       "</div>"
      ],
      "text/plain": [
       "        League_Salaries    WS_Salaries Validity\n",
       "yearID                                         \n",
       "1985             476299  423689.954545    False\n",
       "1986             417147  549775.500000     True\n",
       "1987             434729  710833.333333     True\n",
       "1988             453171  561683.833333     True\n",
       "1989             506323  624522.800000     True"
      ]
     },
     "execution_count": 59,
     "metadata": {},
     "output_type": "execute_result"
    }
   ],
   "source": [
    "# Create a new dataframe that shows a side-by-side comparison of the two averages and then determine how often the \n",
    "# World Series Champion salaries were greater than the league averages.\n",
    "\n",
    "salary_comparison = pd.concat([avg_league_salary, wschamps_avg_salary], axis=1, join='inner')\n",
    "\n",
    "salary_comparison.columns=['League_Salaries','WS_Salaries']\n",
    "\n",
    "salary_comparison['Validity'] = np.where((salary_comparison['WS_Salaries']) > (salary_comparison['League_Salaries']), True, False)\n",
    "\n",
    "salary_comparison.head()"
   ]
  },
  {
   "cell_type": "code",
   "execution_count": 60,
   "metadata": {
    "collapsed": false
   },
   "outputs": [],
   "source": [
    "true_or_false = salary_comparison.loc[1985:2015]['Validity'].value_counts()"
   ]
  },
  {
   "cell_type": "code",
   "execution_count": 98,
   "metadata": {
    "collapsed": false
   },
   "outputs": [
    {
     "name": "stdout",
     "output_type": "stream",
     "text": [
      "Populating the interactive namespace from numpy and matplotlib\n",
      "True     25\n",
      "False     5\n",
      "Name: Validity, dtype: int64\n"
     ]
    },
    {
     "data": {
      "text/plain": [
       "<matplotlib.text.Text at 0x20b8f913a58>"
      ]
     },
     "execution_count": 98,
     "metadata": {},
     "output_type": "execute_result"
    },
    {
     "data": {
      "image/png": "[encoded data removed]",
      "text/plain": [
       "<matplotlib.figure.Figure at 0x20b8fbb9518>"
      ]
     },
     "metadata": {},
     "output_type": "display_data"
    }
   ],
   "source": [
    "%pylab inline\n",
    "\n",
    "print (true_or_false)\n",
    "true_or_false.plot(kind='bar')\n",
    "plt.suptitle('# of Times the WS Champ Salary Was Greater Than the League')\n",
    "plt.xlabel('True or False')\n",
    "plt.ylabel('# of Occurrences')\n"
   ]
  },
  {
   "cell_type": "markdown",
   "metadata": {},
   "source": [
    "<div id=\"expression2\"><h2><font color= green>2. \"Money buys talent\"</font></h3></div>\n",
    "\n",
    "To determine if this saying is true or false, I will answer the following questions:<br>\n",
    "2a.) What team has had the most players selected to the All Star game from 1985-2015?<br>\n",
    "2b.) What is the average salary of those players?<br>\n",
    "2c.) How do those averages compare to the rest of the league?<br>\n",
    "2d.) What is the difference between League averages and Yankee averages by year?"
   ]
  },
  {
   "cell_type": "markdown",
   "metadata": {},
   "source": [
    "<h3>Observation:</h3><br>\n",
    "From 1985-2015, the team with the most players selected to the All Star game was the New York Yankees with 119 total players. The average salary of those players during that time period was $9,089,748.<br><br>\n",
    "When comparing their average salary to the rest of the league, you can see a large discrepancy between the two.\n",
    "<br><br>\n",
    "Taking into consideration these two points, those results would suggest that the more a franchise spends on the salary of the player, the more talented the players will be. In baseball, the Yankees have always had a reputation of \"buying their talent.\" There may be some truth to that statement afterall.\n",
    "<br><br>\n",
    "In conclusion, I would deem the expression \"Money buys talent\" as TRUE.\n",
    "<h3>Verdict: <font color='red'>TRUE*</font></h3>\n",
    "\n",
    "*This is all good and well if everyone agrees that we should base a player's talent level on the ability to make it to the All Star team. But the reality is that not everyone will. This is one limitation to the analysis. \n",
    "\n",
    "Another limitation to the analysis is the outliers for the All Star players. In any given season there could be players with exorbitant salaries compared to everyone else. This would result in an inflated overall average for All Star players and create a misrepresentation of the sameple size.  "
   ]
  },
  {
   "cell_type": "markdown",
   "metadata": {},
   "source": [
    "Explore the code below to see what was used to analyze the data."
   ]
  },
  {
   "cell_type": "markdown",
   "metadata": {},
   "source": [
    "<h4>2a.) Find the team with the most All Star game occurrences.</h4>"
   ]
  },
  {
   "cell_type": "code",
   "execution_count": 7,
   "metadata": {
    "collapsed": false,
    "scrolled": true
   },
   "outputs": [
    {
     "data": {
      "text/html": [
       "<div>\n",
       "<table border=\"1\" class=\"dataframe\">\n",
       "  <thead>\n",
       "    <tr style=\"text-align: right;\">\n",
       "      <th></th>\n",
       "      <th>playerID</th>\n",
       "      <th>gameNum</th>\n",
       "      <th>gameID</th>\n",
       "      <th>teamID</th>\n",
       "      <th>lgID</th>\n",
       "      <th>GP</th>\n",
       "      <th>startingPos</th>\n",
       "    </tr>\n",
       "    <tr>\n",
       "      <th>yearID</th>\n",
       "      <th></th>\n",
       "      <th></th>\n",
       "      <th></th>\n",
       "      <th></th>\n",
       "      <th></th>\n",
       "      <th></th>\n",
       "      <th></th>\n",
       "    </tr>\n",
       "  </thead>\n",
       "  <tbody>\n",
       "    <tr>\n",
       "      <th>1933</th>\n",
       "      <td>gomezle01</td>\n",
       "      <td>0</td>\n",
       "      <td>ALS193307060</td>\n",
       "      <td>NYA</td>\n",
       "      <td>AL</td>\n",
       "      <td>1.0</td>\n",
       "      <td>1.0</td>\n",
       "    </tr>\n",
       "    <tr>\n",
       "      <th>1933</th>\n",
       "      <td>ferreri01</td>\n",
       "      <td>0</td>\n",
       "      <td>ALS193307060</td>\n",
       "      <td>BOS</td>\n",
       "      <td>AL</td>\n",
       "      <td>1.0</td>\n",
       "      <td>2.0</td>\n",
       "    </tr>\n",
       "    <tr>\n",
       "      <th>1933</th>\n",
       "      <td>gehrilo01</td>\n",
       "      <td>0</td>\n",
       "      <td>ALS193307060</td>\n",
       "      <td>NYA</td>\n",
       "      <td>AL</td>\n",
       "      <td>1.0</td>\n",
       "      <td>3.0</td>\n",
       "    </tr>\n",
       "    <tr>\n",
       "      <th>1933</th>\n",
       "      <td>gehrich01</td>\n",
       "      <td>0</td>\n",
       "      <td>ALS193307060</td>\n",
       "      <td>DET</td>\n",
       "      <td>AL</td>\n",
       "      <td>1.0</td>\n",
       "      <td>4.0</td>\n",
       "    </tr>\n",
       "    <tr>\n",
       "      <th>1933</th>\n",
       "      <td>dykesji01</td>\n",
       "      <td>0</td>\n",
       "      <td>ALS193307060</td>\n",
       "      <td>CHA</td>\n",
       "      <td>AL</td>\n",
       "      <td>1.0</td>\n",
       "      <td>5.0</td>\n",
       "    </tr>\n",
       "  </tbody>\n",
       "</table>\n",
       "</div>"
      ],
      "text/plain": [
       "         playerID  gameNum        gameID teamID lgID   GP  startingPos\n",
       "yearID                                                                \n",
       "1933    gomezle01        0  ALS193307060    NYA   AL  1.0          1.0\n",
       "1933    ferreri01        0  ALS193307060    BOS   AL  1.0          2.0\n",
       "1933    gehrilo01        0  ALS193307060    NYA   AL  1.0          3.0\n",
       "1933    gehrich01        0  ALS193307060    DET   AL  1.0          4.0\n",
       "1933    dykesji01        0  ALS193307060    CHA   AL  1.0          5.0"
      ]
     },
     "execution_count": 7,
     "metadata": {},
     "output_type": "execute_result"
    }
   ],
   "source": [
    "import pandas as pd\n",
    "import numpy as np\n",
    "import matplotlib.pyplot as plt\n",
    "import seaborn as sns\n",
    "import scipy as sp\n",
    "\n",
    "allstar_stats = pd.read_csv('AllstarFull.csv', index_col='yearID')\n",
    "allstar_stats.head()"
   ]
  },
  {
   "cell_type": "code",
   "execution_count": 64,
   "metadata": {
    "collapsed": false
   },
   "outputs": [
    {
     "name": "stdout",
     "output_type": "stream",
     "text": [
      "<class 'pandas.core.frame.DataFrame'>\n",
      "Int64Index: 5148 entries, 1933 to 2016\n",
      "Data columns (total 7 columns):\n",
      "playerID       5148 non-null object\n",
      "gameNum        5148 non-null int64\n",
      "gameID         5099 non-null object\n",
      "teamID         5148 non-null object\n",
      "lgID           5148 non-null object\n",
      "GP             5129 non-null float64\n",
      "startingPos    1600 non-null float64\n",
      "dtypes: float64(2), int64(1), object(4)\n",
      "memory usage: 321.8+ KB\n"
     ]
    }
   ],
   "source": [
    "# test the All Star Stats dataset for missing values\n",
    "\n",
    "allstar_stats.info()"
   ]
  },
  {
   "cell_type": "code",
   "execution_count": 8,
   "metadata": {
    "collapsed": false
   },
   "outputs": [
    {
     "data": {
      "text/plain": [
       "(0    NYA\n",
       " dtype: object, 421)"
      ]
     },
     "execution_count": 8,
     "metadata": {},
     "output_type": "execute_result"
    }
   ],
   "source": [
    "# Find the team with the most participating players in the Allstar game \n",
    "# This should be the team with the most occurrances under the column 'teamID'\n",
    "\n",
    "team_name = allstar_stats['teamID'].mode()\n",
    "items_counts = allstar_stats['teamID'].value_counts()\n",
    "number_of_times = items_counts.max()\n",
    "\n",
    "def most_occurrences(allstar_stats):\n",
    "    return (team_name, number_of_times)\n",
    "\n",
    "most_occurrences(allstar_stats)"
   ]
  },
  {
   "cell_type": "markdown",
   "metadata": {},
   "source": [
    "Based on this data, the New York Yankees have had the most players selected to the Allstar game, with 421 players."
   ]
  },
  {
   "cell_type": "markdown",
   "metadata": {},
   "source": [
    "<h4>2b.) Find the average salary of those players.</h4>"
   ]
  },
  {
   "cell_type": "code",
   "execution_count": 9,
   "metadata": {
    "collapsed": true
   },
   "outputs": [],
   "source": [
    "team_salaries = pd.read_csv('Salaries.csv', index_col='yearID')"
   ]
  },
  {
   "cell_type": "code",
   "execution_count": 10,
   "metadata": {
    "collapsed": false
   },
   "outputs": [
    {
     "data": {
      "text/html": [
       "<div>\n",
       "<table border=\"1\" class=\"dataframe\">\n",
       "  <thead>\n",
       "    <tr style=\"text-align: right;\">\n",
       "      <th></th>\n",
       "      <th>teamID</th>\n",
       "      <th>lgID</th>\n",
       "      <th>playerID</th>\n",
       "      <th>salary</th>\n",
       "    </tr>\n",
       "    <tr>\n",
       "      <th>yearID</th>\n",
       "      <th></th>\n",
       "      <th></th>\n",
       "      <th></th>\n",
       "      <th></th>\n",
       "    </tr>\n",
       "  </thead>\n",
       "  <tbody>\n",
       "    <tr>\n",
       "      <th>1985</th>\n",
       "      <td>ATL</td>\n",
       "      <td>NL</td>\n",
       "      <td>barkele01</td>\n",
       "      <td>870000</td>\n",
       "    </tr>\n",
       "    <tr>\n",
       "      <th>1985</th>\n",
       "      <td>ATL</td>\n",
       "      <td>NL</td>\n",
       "      <td>bedrost01</td>\n",
       "      <td>550000</td>\n",
       "    </tr>\n",
       "    <tr>\n",
       "      <th>1985</th>\n",
       "      <td>ATL</td>\n",
       "      <td>NL</td>\n",
       "      <td>benedbr01</td>\n",
       "      <td>545000</td>\n",
       "    </tr>\n",
       "    <tr>\n",
       "      <th>1985</th>\n",
       "      <td>ATL</td>\n",
       "      <td>NL</td>\n",
       "      <td>campri01</td>\n",
       "      <td>633333</td>\n",
       "    </tr>\n",
       "    <tr>\n",
       "      <th>1985</th>\n",
       "      <td>ATL</td>\n",
       "      <td>NL</td>\n",
       "      <td>ceronri01</td>\n",
       "      <td>625000</td>\n",
       "    </tr>\n",
       "  </tbody>\n",
       "</table>\n",
       "</div>"
      ],
      "text/plain": [
       "       teamID lgID   playerID  salary\n",
       "yearID                               \n",
       "1985      ATL   NL  barkele01  870000\n",
       "1985      ATL   NL  bedrost01  550000\n",
       "1985      ATL   NL  benedbr01  545000\n",
       "1985      ATL   NL   campri01  633333\n",
       "1985      ATL   NL  ceronri01  625000"
      ]
     },
     "execution_count": 10,
     "metadata": {},
     "output_type": "execute_result"
    }
   ],
   "source": [
    "team_salaries.head()"
   ]
  },
  {
   "cell_type": "markdown",
   "metadata": {
    "collapsed": true
   },
   "source": [
    "From the \"Salaries\" dataframe, I noticed the data only started recording as early as 1985 and ended at 2015, so I have to go back and revise my previous calculation and see what team had the most players invited to the Allstar game <b>from 1985-2015</b>."
   ]
  },
  {
   "cell_type": "code",
   "execution_count": 11,
   "metadata": {
    "collapsed": false
   },
   "outputs": [],
   "source": [
    "# filter dataframe to only include data from 1985 and after.\n",
    "\n",
    "thirtyyears = allstar_stats.loc[1985:2015]"
   ]
  },
  {
   "cell_type": "code",
   "execution_count": 12,
   "metadata": {
    "collapsed": false
   },
   "outputs": [
    {
     "data": {
      "text/plain": [
       "(0    NYA\n",
       " dtype: object, 119)"
      ]
     },
     "execution_count": 12,
     "metadata": {},
     "output_type": "execute_result"
    }
   ],
   "source": [
    "# use new dataframe to find the team that has sent the most players to the Allstar game since 1985.\n",
    "\n",
    "team_name = thirtyyears['teamID'].mode()\n",
    "items_counts = thirtyyears['teamID'].value_counts()\n",
    "number_of_times = items_counts.max()\n",
    "\n",
    "def most_occurrences(thirtyyears):\n",
    "    return (team_name, number_of_times)\n",
    "\n",
    "most_occurrences(thirtyyears)"
   ]
  },
  {
   "cell_type": "markdown",
   "metadata": {},
   "source": [
    "Based on this data, the New York Yankees still had the most players selected to the Allstar game from 1985-2015, but this time with 119 players.\n",
    "\n",
    "Now it's time to determine what the average salary of those Allstars were during that time frame. Because the Salaries.csv includes every player from every team since 1985-2015, I have to filter out <b>only the All Stars</b>. I will merge the two dataframes and filter by yearID, playerID, and teamID."
   ]
  },
  {
   "cell_type": "code",
   "execution_count": 13,
   "metadata": {
    "collapsed": false
   },
   "outputs": [
    {
     "data": {
      "text/plain": [
       "9089748.462184874"
      ]
     },
     "execution_count": 13,
     "metadata": {},
     "output_type": "execute_result"
    }
   ],
   "source": [
    "yankee_allstars = thirtyyears.loc[thirtyyears['teamID'] == 'NYA']\n",
    "yankee_allstars = yankee_allstars.reset_index()\n",
    "salaries = pd.read_csv('Salaries.csv')\n",
    "s1 = pd.merge(yankee_allstars, salaries, how='left', on=['yearID', 'playerID', 'teamID'])\n",
    "s1.salary.mean()"
   ]
  },
  {
   "cell_type": "markdown",
   "metadata": {},
   "source": [
    "The average salary of New York Yankee Allstars, from 1985-2016, is $9,089,748. "
   ]
  },
  {
   "cell_type": "markdown",
   "metadata": {},
   "source": [
    "<h4>2c.) How do those averages compare to the rest of the league?</h4>"
   ]
  },
  {
   "cell_type": "code",
   "execution_count": 14,
   "metadata": {
    "collapsed": false
   },
   "outputs": [
    {
     "data": {
      "text/plain": [
       "2085634.053125473"
      ]
     },
     "execution_count": 14,
     "metadata": {},
     "output_type": "execute_result"
    }
   ],
   "source": [
    "# find the average salary of all players from 1985-2015\n",
    "\n",
    "salaries.salary.mean()"
   ]
  },
  {
   "cell_type": "markdown",
   "metadata": {},
   "source": [
    "The average salary of all MLB players, from 1985-2016, is $2,085,634."
   ]
  },
  {
   "cell_type": "code",
   "execution_count": 15,
   "metadata": {
    "collapsed": false
   },
   "outputs": [],
   "source": [
    "avg_salary_year = salaries.groupby('yearID')['salary'].mean()"
   ]
  },
  {
   "cell_type": "code",
   "execution_count": 16,
   "metadata": {
    "collapsed": false
   },
   "outputs": [
    {
     "name": "stdout",
     "output_type": "stream",
     "text": [
      "Populating the interactive namespace from numpy and matplotlib\n"
     ]
    },
    {
     "data": {
      "text/plain": [
       "<matplotlib.text.Text at 0x20b8e13ca58>"
      ]
     },
     "execution_count": 16,
     "metadata": {},
     "output_type": "execute_result"
    },
    {
     "data": {
      "image/png": "[encoded data removed]",
      "text/plain": [
       "<matplotlib.figure.Figure at 0x20b8d8de940>"
      ]
     },
     "metadata": {},
     "output_type": "display_data"
    }
   ],
   "source": [
    "# create a graph that show the average salary of all players from 1985-2015 by year\n",
    "\n",
    "\n",
    "%pylab inline\n",
    "\n",
    "avg_salary_year.plot(label=\"league\")\n",
    "plt.suptitle('Average Salary for League (1985-2015)')\n",
    "plt.ylabel('Salary')\n",
    "plt.xlabel('Year')"
   ]
  },
  {
   "cell_type": "code",
   "execution_count": 17,
   "metadata": {
    "collapsed": false
   },
   "outputs": [
    {
     "name": "stdout",
     "output_type": "stream",
     "text": [
      "Populating the interactive namespace from numpy and matplotlib\n"
     ]
    }
   ],
   "source": [
    "# create a graph that shows the average salary of NY Yankee Allstars from 1985-2015 by year.\n",
    "\n",
    "%pylab inline\n",
    "\n",
    "s1_average = s1.groupby('yearID')['salary'].mean()"
   ]
  },
  {
   "cell_type": "code",
   "execution_count": 18,
   "metadata": {
    "collapsed": false
   },
   "outputs": [
    {
     "name": "stdout",
     "output_type": "stream",
     "text": [
      "Populating the interactive namespace from numpy and matplotlib\n"
     ]
    },
    {
     "data": {
      "text/plain": [
       "<matplotlib.text.Text at 0x20b8dea4048>"
      ]
     },
     "execution_count": 18,
     "metadata": {},
     "output_type": "execute_result"
    },
    {
     "data": {
      "image/png": "[encoded data removed]",
      "text/plain": [
       "<matplotlib.figure.Figure at 0x20b8de9d8d0>"
      ]
     },
     "metadata": {},
     "output_type": "display_data"
    }
   ],
   "source": [
    "%pylab inline\n",
    "\n",
    "s1_plot = s1_average.plot(y='salary').ticklabel_format(style='plain')\n",
    "plt.ylabel('Salary')\n",
    "plt.xlabel('Year')\n",
    "plt.suptitle('Average Salary of Yankee Allstars (1985-2015)')"
   ]
  },
  {
   "cell_type": "code",
   "execution_count": 19,
   "metadata": {
    "collapsed": false
   },
   "outputs": [
    {
     "name": "stdout",
     "output_type": "stream",
     "text": [
      "Populating the interactive namespace from numpy and matplotlib\n"
     ]
    },
    {
     "data": {
      "text/plain": [
       "<matplotlib.legend.Legend at 0x20b8de8def0>"
      ]
     },
     "execution_count": 19,
     "metadata": {},
     "output_type": "execute_result"
    },
    {
     "data": {
      "image/png": "[encoded data removed]",
      "text/plain": [
       "<matplotlib.figure.Figure at 0x20b8def2828>"
      ]
     },
     "metadata": {},
     "output_type": "display_data"
    }
   ],
   "source": [
    "# compare the average salary of the league vs yankee allstars\n",
    "\n",
    "%pylab inline\n",
    "\n",
    "avg_salary_year.plot(label='League');s1_average.plot(label='Yankees').ticklabel_format(style='plain')\n",
    "plt.ylabel('Salary')\n",
    "plt.xlabel('Year')\n",
    "plt.suptitle('Average Salary of Yankee Allstars vs League (1985-2015)')\n",
    "plt.legend(loc='upper left')\n"
   ]
  },
  {
   "cell_type": "markdown",
   "metadata": {},
   "source": [
    "Based on the graph above, you can see the discrepancy between the Yankee Allstar average salary per year compared to that of the rest of the league. What can you deduce from this information? One may want to state that the higher the salary, the higher chance of that player having an All Star productive year. "
   ]
  },
  {
   "cell_type": "markdown",
   "metadata": {
    "collapsed": true
   },
   "source": [
    "<h4>2d.) What is the difference between League averages and Yankee averages by year, from 1985-2015?</h4>"
   ]
  },
  {
   "cell_type": "code",
   "execution_count": 20,
   "metadata": {
    "collapsed": false
   },
   "outputs": [
    {
     "data": {
      "text/plain": [
       "salary    1.278222e+06\n",
       "salary    6.265775e+06\n",
       "dtype: float64"
      ]
     },
     "execution_count": 20,
     "metadata": {},
     "output_type": "execute_result"
    }
   ],
   "source": [
    "# find the standard deviation for yankee allstar average salaries by year and league average salaries by year\n",
    "\n",
    "std_salaries = pd.concat([avg_salary_year, s1_average], axis=1)\n",
    "\n",
    "std_salaries.std()"
   ]
  },
  {
   "cell_type": "code",
   "execution_count": 21,
   "metadata": {
    "collapsed": false
   },
   "outputs": [
    {
     "data": {
      "text/html": [
       "<div>\n",
       "<table border=\"1\" class=\"dataframe\">\n",
       "  <thead>\n",
       "    <tr style=\"text-align: right;\">\n",
       "      <th></th>\n",
       "      <th>salary</th>\n",
       "      <th>salary</th>\n",
       "    </tr>\n",
       "    <tr>\n",
       "      <th>yearID</th>\n",
       "      <th></th>\n",
       "      <th></th>\n",
       "    </tr>\n",
       "  </thead>\n",
       "  <tbody>\n",
       "    <tr>\n",
       "      <th>1985</th>\n",
       "      <td>476299</td>\n",
       "      <td>1240234.0</td>\n",
       "    </tr>\n",
       "    <tr>\n",
       "      <th>1986</th>\n",
       "      <td>417147</td>\n",
       "      <td>1417303.0</td>\n",
       "    </tr>\n",
       "    <tr>\n",
       "      <th>1987</th>\n",
       "      <td>434729</td>\n",
       "      <td>1451342.0</td>\n",
       "    </tr>\n",
       "    <tr>\n",
       "      <th>1988</th>\n",
       "      <td>453171</td>\n",
       "      <td>1909550.0</td>\n",
       "    </tr>\n",
       "    <tr>\n",
       "      <th>1989</th>\n",
       "      <td>506323</td>\n",
       "      <td>1675000.0</td>\n",
       "    </tr>\n",
       "  </tbody>\n",
       "</table>\n",
       "</div>"
      ],
      "text/plain": [
       "        salary     salary\n",
       "yearID                   \n",
       "1985    476299  1240234.0\n",
       "1986    417147  1417303.0\n",
       "1987    434729  1451342.0\n",
       "1988    453171  1909550.0\n",
       "1989    506323  1675000.0"
      ]
     },
     "execution_count": 21,
     "metadata": {},
     "output_type": "execute_result"
    }
   ],
   "source": [
    "std_salaries.head()"
   ]
  },
  {
   "cell_type": "markdown",
   "metadata": {
    "collapsed": true
   },
   "source": [
    "<div id=\"expression3\"><h2><font color= green>3. \"Pitching wins championships\"</font></h2></div><br>\n",
    "To determine if this saying is true or false, I will look at the last 10 Championship teams and answer the following questions:<br>\n",
    "3a.) How do the Championship team's hitting statistics compare to the league during the regular season?<br>\n",
    "3b.) How do the Championship team's pitching statistics compare to the league during the regular season?<br>"
   ]
  },
  {
   "cell_type": "markdown",
   "metadata": {},
   "source": [
    "<h3>Observation:</h3><br>"
   ]
  },
  {
   "cell_type": "code",
   "execution_count": 99,
   "metadata": {
    "collapsed": false
   },
   "outputs": [
    {
     "name": "stdout",
     "output_type": "stream",
     "text": [
      "Populating the interactive namespace from numpy and matplotlib\n"
     ]
    },
    {
     "data": {
      "text/plain": [
       "<matplotlib.legend.Legend at 0x20b950d9780>"
      ]
     },
     "execution_count": 99,
     "metadata": {},
     "output_type": "execute_result"
    },
    {
     "data": {
      "image/png": "[encoded data removed]",
      "text/plain": [
       "<matplotlib.figure.Figure at 0x20b8fce5be0>"
      ]
     },
     "metadata": {},
     "output_type": "display_data"
    }
   ],
   "source": [
    "%pylab inline\n",
    "\n",
    "total.plot(label='Batting', kind='bar', align=\"center\");total_pitching.plot(label='Pitching', kind='bar', align=\"center\", width=.3, color='#EE3224')\n",
    "#plt.ylabel('Salary')\n",
    "plt.xlabel('Year')\n",
    "plt.ylabel('# of Occurrences')\n",
    "plt.suptitle('# Times League Metrics Were Better Than the Champion')\n",
    "plt.legend(loc='upper left')"
   ]
  },
  {
   "cell_type": "markdown",
   "metadata": {},
   "source": [
    "The graph above is illustrating the number of times when the league average for any particular metric, batting or pitching, was better than that of the World Series champion. The higher the number suggests that particular statistic does not have as great of an influence on the outcome of the winner. Let's take a look at the breakdown.\n",
    "\n",
    "For unique situations:\n",
    "- There were 2 years when there were occurrences of better league battings metrics and no pitching occurrences. This would suggest that batting had less of an influence on the outcome of the game compared to pitching.\n",
    "- There were 4 years when there were occurrences of better league pitching metrics and no batting occurrences. This suggests that pitching had less of an influence on the outcome of the game compared to batting.\n",
    "\n",
    "\n",
    "For shared situations:\n",
    "- There were 4 years when there were occurrences of better league metrics for batting and pitching.\n",
    "- Out of the 4, there were 2 years that were even and two years where pitching had less occurrences; therefore, pitching had more of influence on the outcome. \n",
    "- There was also 1 year when there were no occurrences for either batting or pitching metrics.\n",
    "\n",
    "\n",
    "So far it is hard to make a determination whether or not pitching or batting has more of an impact on the outcome of the World Series winner. \n",
    "\n",
    "If I breakdown each year and give a point to the baseball stat that had the least amount of occurrences (ties are not counted), the result ends up as:\n",
    "\n",
    "Batting: 4\n",
    "Pitching: 4\n",
    "\n",
    "A TIE!!\n",
    "\n",
    "Based on the results, it's difficult to definitively say that \"pitching wins championships\" is either true or false. \n",
    "<h3>Verdict: <font color='red'>INCONCLUSIVE*</font></h3>\n",
    "\n",
    "*One thing that was not explored in the analysis was the batting and pitching statistics during the playoffs. In sports there is an increased level of pressure as the stakes of the games are higher. This usually results in different statistical averages. It would be interesting to analyze the same metrics, but during the playoffs. The results of that analysis could sway the verdict to either side. \n",
    "\n"
   ]
  },
  {
   "cell_type": "markdown",
   "metadata": {},
   "source": [
    "Explore the code below to see what was used to analyze the data."
   ]
  },
  {
   "cell_type": "markdown",
   "metadata": {
    "collapsed": true
   },
   "source": [
    "<h4>3a.) Compare the Championship team's hitting statistics to the rest of the league from 2006-2016.</h4>"
   ]
  },
  {
   "cell_type": "code",
   "execution_count": 66,
   "metadata": {
    "collapsed": false
   },
   "outputs": [],
   "source": [
    "team_stats = pd.read_csv('Teams.csv')\n",
    "batting_stats = pd.read_csv('Batting.csv')`"
   ]
  },
  {
   "cell_type": "code",
   "execution_count": 90,
   "metadata": {
    "collapsed": false
   },
   "outputs": [
    {
     "name": "stdout",
     "output_type": "stream",
     "text": [
      "<class 'pandas.core.frame.DataFrame'>\n",
      "RangeIndex: 2835 entries, 0 to 2834\n",
      "Data columns (total 48 columns):\n",
      "yearID            2835 non-null int64\n",
      "lgID              2785 non-null object\n",
      "teamID            2835 non-null object\n",
      "franchID          2835 non-null object\n",
      "divID             1318 non-null object\n",
      "Rank              2835 non-null int64\n",
      "G                 2835 non-null int64\n",
      "Ghome             2436 non-null float64\n",
      "W                 2835 non-null int64\n",
      "L                 2835 non-null int64\n",
      "DivWin            1290 non-null object\n",
      "WCWin             654 non-null object\n",
      "LgWin             2807 non-null object\n",
      "WSWin             2478 non-null object\n",
      "R                 2835 non-null int64\n",
      "AB                2835 non-null int64\n",
      "H                 2835 non-null int64\n",
      "2B                2835 non-null int64\n",
      "3B                2835 non-null int64\n",
      "HR                2835 non-null int64\n",
      "BB                2835 non-null int64\n",
      "SO                2715 non-null float64\n",
      "SB                2691 non-null float64\n",
      "CS                1976 non-null float64\n",
      "HBP               510 non-null float64\n",
      "SF                510 non-null float64\n",
      "RA                2835 non-null int64\n",
      "ER                2835 non-null int64\n",
      "ERA               2835 non-null float64\n",
      "CG                2835 non-null int64\n",
      "SHO               2835 non-null int64\n",
      "SV                2835 non-null int64\n",
      "IPouts            2835 non-null int64\n",
      "HA                2835 non-null int64\n",
      "HRA               2835 non-null int64\n",
      "BBA               2835 non-null int64\n",
      "SOA               2835 non-null int64\n",
      "E                 2835 non-null int64\n",
      "DP                2518 non-null float64\n",
      "FP                2835 non-null float64\n",
      "name              2835 non-null object\n",
      "park              2801 non-null object\n",
      "attendance        2556 non-null float64\n",
      "BPF               2835 non-null int64\n",
      "PPF               2835 non-null int64\n",
      "teamIDBR          2835 non-null object\n",
      "teamIDlahman45    2835 non-null object\n",
      "teamIDretro       2835 non-null object\n",
      "dtypes: float64(10), int64(25), object(13)\n",
      "memory usage: 1.0+ MB\n"
     ]
    }
   ],
   "source": [
    "# check the team stats dataset for missing values\n",
    "\n",
    "team_stats.info()"
   ]
  },
  {
   "cell_type": "code",
   "execution_count": 91,
   "metadata": {
    "collapsed": false
   },
   "outputs": [
    {
     "name": "stdout",
     "output_type": "stream",
     "text": [
      "<class 'pandas.core.frame.DataFrame'>\n",
      "RangeIndex: 102816 entries, 0 to 102815\n",
      "Data columns (total 23 columns):\n",
      "playerID    102816 non-null object\n",
      "yearID      102816 non-null int64\n",
      "stint       102816 non-null int64\n",
      "teamID      102816 non-null object\n",
      "lgID        102079 non-null object\n",
      "G           102816 non-null int64\n",
      "AB          102816 non-null int64\n",
      "R           102816 non-null int64\n",
      "H           102816 non-null int64\n",
      "2B          102816 non-null int64\n",
      "3B          102816 non-null int64\n",
      "HR          102816 non-null int64\n",
      "RBI         102392 non-null float64\n",
      "SB          101516 non-null float64\n",
      "CS          79360 non-null float64\n",
      "BB          102816 non-null int64\n",
      "SO          94978 non-null float64\n",
      "IBB         66251 non-null float64\n",
      "HBP         100006 non-null float64\n",
      "SH          96478 non-null float64\n",
      "SF          66782 non-null float64\n",
      "GIDP        76706 non-null float64\n",
      "BA          87435 non-null float64\n",
      "dtypes: float64(10), int64(10), object(3)\n",
      "memory usage: 18.0+ MB\n"
     ]
    }
   ],
   "source": [
    "# check the batting stats for missing values\n",
    "\n",
    "batting_stats.info()"
   ]
  },
  {
   "cell_type": "code",
   "execution_count": 67,
   "metadata": {
    "collapsed": false
   },
   "outputs": [],
   "source": [
    "'''All calculations represent the league as a whole by year.'''\n",
    "# calculate the average runs\n",
    "# calculate the average hits\n",
    "# calculate the batting average \n",
    "# calculate the average on-base percentage\n",
    "# calculate the average slugging percentage\n",
    "# calculate the on--base plus slugging percentage\n",
    "\n",
    "avg_runs = team_stats.loc[(team_stats['yearID'] <= 2016) & (team_stats['yearID'] >= 2006)].groupby('yearID')['R'].mean()\n",
    "avg_hits = team_stats.loc[(team_stats['yearID'] <= 2016) & (team_stats['yearID'] >= 2006)].groupby('yearID')['H'].mean()\n",
    "avg_batting = team_stats.loc[(team_stats['yearID'] <= 2016) & (team_stats['yearID'] >= 2006)].groupby('yearID')['H'].sum() / team_stats.loc[(team_stats['yearID'] <= 2016) & (team_stats['yearID'] >= 2006)].groupby('yearID')['AB'].sum()\n",
    "avg_obp = (team_stats.loc[(team_stats['yearID'] <= 2016) & (team_stats['yearID'] >= 2006)].groupby('yearID')['H'].sum() + team_stats.loc[(team_stats['yearID'] <= 2016) & (team_stats['yearID'] >= 2006)].groupby('yearID')['BB'].sum() + team_stats.loc[(team_stats['yearID'] <= 2016) & (team_stats['yearID'] >= 2006)].groupby('yearID')['HBP'].sum()) / team_stats.loc[(team_stats['yearID'] <= 2016) & (team_stats['yearID'] >= 2006)].groupby('yearID')['AB'].sum()\n",
    "avg_slg = (team_stats.loc[(team_stats['yearID'] <= 2016) & (team_stats['yearID'] >= 2006)].groupby('yearID')['H'].sum() + team_stats.loc[(team_stats['yearID'] <= 2016) & (team_stats['yearID'] >= 2006)].groupby('yearID')['2B'].sum() + (team_stats.loc[(team_stats['yearID'] <= 2016) & (team_stats['yearID'] >= 2006)].groupby('yearID')['3B'].sum() * 2) + (team_stats.loc[(team_stats['yearID'] <= 2016) & (team_stats['yearID'] >= 2006)].groupby('yearID')['HR'].sum() * 3)) / team_stats.loc[(team_stats['yearID'] <= 2016) & (team_stats['yearID'] >= 2006)].groupby('yearID')['AB'].sum()\n",
    "avg_ops = avg_obp + avg_slg\n",
    "\n",
    "league_bat_metrics = pd.concat([avg_runs, avg_hits, avg_batting, avg_obp, avg_slg, avg_ops], axis=1)\n",
    "league_bat_metrics.columns = ['Avg Runs', 'Avg Hits', 'Bat Avg', 'Avg OBP', 'Avg Slg', 'Avg OPS']"
   ]
  },
  {
   "cell_type": "code",
   "execution_count": 68,
   "metadata": {
    "collapsed": false
   },
   "outputs": [
    {
     "name": "stderr",
     "output_type": "stream",
     "text": [
      "C:\\Anaconda\\lib\\site-packages\\pandas\\core\\frame.py:2834: SettingWithCopyWarning: \n",
      "A value is trying to be set on a copy of a slice from a DataFrame\n",
      "\n",
      "See the caveats in the documentation: http://pandas.pydata.org/pandas-docs/stable/indexing.html#indexing-view-versus-copy\n",
      "  **kwargs)\n"
     ]
    }
   ],
   "source": [
    "# create a list of the World Series winners from 2006-2016\n",
    "\n",
    "wschamps_10yr = postseason[(postseason['yearID'] > 2005) & (postseason['round'] == 'WS')]\n",
    "wschamps_10yr.rename(columns={'teamIDwinner':'teamID'}, inplace=True)\n",
    "#wschamps_10yr"
   ]
  },
  {
   "cell_type": "code",
   "execution_count": 69,
   "metadata": {
    "collapsed": false
   },
   "outputs": [],
   "source": [
    "# use the list of World Series winners and filter those team's batting statistics\n",
    "\n",
    "champ_bat_metrics = pd.merge(team_stats, wschamps_10yr, how='right', on=['yearID','teamID']).set_index('yearID')\n",
    "def batting_average(H, AB):\n",
    "    return H / AB\n",
    "def onbase_perc(H, BB, HBP, AB):\n",
    "    return (H+BB+HBP) / AB\n",
    "def slg_perc(H, Doubles, Triples, HR, AB):\n",
    "    return (H+Doubles+(Triples*2)+(HR*3)) / AB\n",
    "def ops_perc(H, Doubles, Triples, HR, AB, BB, HBP):\n",
    "    return ((H+BB+HBP) / AB) + ((H+Doubles+(Triples*2)+(HR*3)) / AB)\n",
    "\n",
    "champ_bat_metrics['BA'] = batting_average(champ_bat_metrics['H'], champ_bat_metrics['AB'])\n",
    "champ_bat_metrics['OBP'] = onbase_perc(champ_bat_metrics['H'],champ_bat_metrics['BB'],champ_bat_metrics['HBP'],champ_bat_metrics['AB'])\n",
    "champ_bat_metrics['SLG'] = slg_perc(champ_bat_metrics['H'],champ_bat_metrics['2B'],champ_bat_metrics['3B'],champ_bat_metrics['HR'],champ_bat_metrics['AB'])\n",
    "champ_bat_metrics['OPS'] = ops_perc(champ_bat_metrics['H'],champ_bat_metrics['2B'],champ_bat_metrics['3B'],champ_bat_metrics['HR'],champ_bat_metrics['AB'],champ_bat_metrics['BB'],champ_bat_metrics['HBP'])\n",
    "\n",
    "# old - ws_winners = champ_bat_metrics[['teamID', 'R', 'H', 'BA', 'OBP', 'SLG', 'OPS']]\n",
    "ws_winners = champ_bat_metrics[['R', 'H', 'BA', 'OBP', 'SLG', 'OPS']]\n"
   ]
  },
  {
   "cell_type": "code",
   "execution_count": 70,
   "metadata": {
    "collapsed": false
   },
   "outputs": [
    {
     "data": {
      "text/html": [
       "<div>\n",
       "<table border=\"1\" class=\"dataframe\">\n",
       "  <thead>\n",
       "    <tr style=\"text-align: right;\">\n",
       "      <th></th>\n",
       "      <th>Avg Runs</th>\n",
       "      <th>R</th>\n",
       "      <th>Avg Hits</th>\n",
       "      <th>H</th>\n",
       "      <th>Bat Avg</th>\n",
       "      <th>BA</th>\n",
       "      <th>Avg OBP</th>\n",
       "      <th>OBP</th>\n",
       "      <th>Avg Slg</th>\n",
       "      <th>SLG</th>\n",
       "      <th>Avg OPS</th>\n",
       "      <th>OPS</th>\n",
       "    </tr>\n",
       "    <tr>\n",
       "      <th>yearID</th>\n",
       "      <th></th>\n",
       "      <th></th>\n",
       "      <th></th>\n",
       "      <th></th>\n",
       "      <th></th>\n",
       "      <th></th>\n",
       "      <th></th>\n",
       "      <th></th>\n",
       "      <th></th>\n",
       "      <th></th>\n",
       "      <th></th>\n",
       "      <th></th>\n",
       "    </tr>\n",
       "  </thead>\n",
       "  <tbody>\n",
       "    <tr>\n",
       "      <th>2006</th>\n",
       "      <td>786.633333</td>\n",
       "      <td>781</td>\n",
       "      <td>1502.433333</td>\n",
       "      <td>1484</td>\n",
       "      <td>0.269348</td>\n",
       "      <td>0.268743</td>\n",
       "      <td>0.374905</td>\n",
       "      <td>0.375951</td>\n",
       "      <td>0.431873</td>\n",
       "      <td>0.431365</td>\n",
       "      <td>0.806778</td>\n",
       "      <td>0.807316</td>\n",
       "    </tr>\n",
       "    <tr>\n",
       "      <th>2007</th>\n",
       "      <td>777.400000</td>\n",
       "      <td>867</td>\n",
       "      <td>1499.233333</td>\n",
       "      <td>1561</td>\n",
       "      <td>0.268066</td>\n",
       "      <td>0.279299</td>\n",
       "      <td>0.374359</td>\n",
       "      <td>0.414028</td>\n",
       "      <td>0.422695</td>\n",
       "      <td>0.443908</td>\n",
       "      <td>0.797053</td>\n",
       "      <td>0.857935</td>\n",
       "    </tr>\n",
       "    <tr>\n",
       "      <th>2008</th>\n",
       "      <td>752.833333</td>\n",
       "      <td>799</td>\n",
       "      <td>1465.733333</td>\n",
       "      <td>1407</td>\n",
       "      <td>0.263757</td>\n",
       "      <td>0.255400</td>\n",
       "      <td>0.371780</td>\n",
       "      <td>0.373934</td>\n",
       "      <td>0.416234</td>\n",
       "      <td>0.437829</td>\n",
       "      <td>0.788014</td>\n",
       "      <td>0.811763</td>\n",
       "    </tr>\n",
       "    <tr>\n",
       "      <th>2009</th>\n",
       "      <td>747.300000</td>\n",
       "      <td>915</td>\n",
       "      <td>1450.800000</td>\n",
       "      <td>1604</td>\n",
       "      <td>0.262431</td>\n",
       "      <td>0.283392</td>\n",
       "      <td>0.372230</td>\n",
       "      <td>0.410071</td>\n",
       "      <td>0.417760</td>\n",
       "      <td>0.477562</td>\n",
       "      <td>0.789990</td>\n",
       "      <td>0.887633</td>\n",
       "    </tr>\n",
       "    <tr>\n",
       "      <th>2010</th>\n",
       "      <td>710.266667</td>\n",
       "      <td>697</td>\n",
       "      <td>1418.466667</td>\n",
       "      <td>1411</td>\n",
       "      <td>0.257352</td>\n",
       "      <td>0.257106</td>\n",
       "      <td>0.362140</td>\n",
       "      <td>0.354956</td>\n",
       "      <td>0.402841</td>\n",
       "      <td>0.408345</td>\n",
       "      <td>0.764982</td>\n",
       "      <td>0.763302</td>\n",
       "    </tr>\n",
       "    <tr>\n",
       "      <th>2011</th>\n",
       "      <td>693.600000</td>\n",
       "      <td>762</td>\n",
       "      <td>1408.900000</td>\n",
       "      <td>1513</td>\n",
       "      <td>0.255074</td>\n",
       "      <td>0.273500</td>\n",
       "      <td>0.355083</td>\n",
       "      <td>0.379429</td>\n",
       "      <td>0.399010</td>\n",
       "      <td>0.424982</td>\n",
       "      <td>0.754093</td>\n",
       "      <td>0.804411</td>\n",
       "    </tr>\n",
       "    <tr>\n",
       "      <th>2012</th>\n",
       "      <td>700.566667</td>\n",
       "      <td>718</td>\n",
       "      <td>1402.100000</td>\n",
       "      <td>1495</td>\n",
       "      <td>0.254540</td>\n",
       "      <td>0.268982</td>\n",
       "      <td>0.352591</td>\n",
       "      <td>0.361101</td>\n",
       "      <td>0.405323</td>\n",
       "      <td>0.396725</td>\n",
       "      <td>0.757914</td>\n",
       "      <td>0.757827</td>\n",
       "    </tr>\n",
       "    <tr>\n",
       "      <th>2013</th>\n",
       "      <td>675.166667</td>\n",
       "      <td>853</td>\n",
       "      <td>1403.100000</td>\n",
       "      <td>1566</td>\n",
       "      <td>0.253465</td>\n",
       "      <td>0.277119</td>\n",
       "      <td>0.350870</td>\n",
       "      <td>0.392674</td>\n",
       "      <td>0.396471</td>\n",
       "      <td>0.446116</td>\n",
       "      <td>0.747341</td>\n",
       "      <td>0.838790</td>\n",
       "    </tr>\n",
       "    <tr>\n",
       "      <th>2014</th>\n",
       "      <td>658.700000</td>\n",
       "      <td>665</td>\n",
       "      <td>1386.500000</td>\n",
       "      <td>1407</td>\n",
       "      <td>0.251156</td>\n",
       "      <td>0.254753</td>\n",
       "      <td>0.345786</td>\n",
       "      <td>0.339852</td>\n",
       "      <td>0.386368</td>\n",
       "      <td>0.388195</td>\n",
       "      <td>0.732154</td>\n",
       "      <td>0.728046</td>\n",
       "    </tr>\n",
       "    <tr>\n",
       "      <th>2015</th>\n",
       "      <td>688.233333</td>\n",
       "      <td>724</td>\n",
       "      <td>1403.533333</td>\n",
       "      <td>1497</td>\n",
       "      <td>0.254435</td>\n",
       "      <td>0.268520</td>\n",
       "      <td>0.349155</td>\n",
       "      <td>0.351031</td>\n",
       "      <td>0.404579</td>\n",
       "      <td>0.412197</td>\n",
       "      <td>0.753734</td>\n",
       "      <td>0.763229</td>\n",
       "    </tr>\n",
       "    <tr>\n",
       "      <th>2016</th>\n",
       "      <td>724.800000</td>\n",
       "      <td>808</td>\n",
       "      <td>1409.200000</td>\n",
       "      <td>1409</td>\n",
       "      <td>0.255350</td>\n",
       "      <td>0.256042</td>\n",
       "      <td>0.356455</td>\n",
       "      <td>0.392695</td>\n",
       "      <td>0.417405</td>\n",
       "      <td>0.428675</td>\n",
       "      <td>0.773860</td>\n",
       "      <td>0.821370</td>\n",
       "    </tr>\n",
       "  </tbody>\n",
       "</table>\n",
       "</div>"
      ],
      "text/plain": [
       "          Avg Runs    R     Avg Hits     H   Bat Avg        BA   Avg OBP  \\\n",
       "yearID                                                                     \n",
       "2006    786.633333  781  1502.433333  1484  0.269348  0.268743  0.374905   \n",
       "2007    777.400000  867  1499.233333  1561  0.268066  0.279299  0.374359   \n",
       "2008    752.833333  799  1465.733333  1407  0.263757  0.255400  0.371780   \n",
       "2009    747.300000  915  1450.800000  1604  0.262431  0.283392  0.372230   \n",
       "2010    710.266667  697  1418.466667  1411  0.257352  0.257106  0.362140   \n",
       "2011    693.600000  762  1408.900000  1513  0.255074  0.273500  0.355083   \n",
       "2012    700.566667  718  1402.100000  1495  0.254540  0.268982  0.352591   \n",
       "2013    675.166667  853  1403.100000  1566  0.253465  0.277119  0.350870   \n",
       "2014    658.700000  665  1386.500000  1407  0.251156  0.254753  0.345786   \n",
       "2015    688.233333  724  1403.533333  1497  0.254435  0.268520  0.349155   \n",
       "2016    724.800000  808  1409.200000  1409  0.255350  0.256042  0.356455   \n",
       "\n",
       "             OBP   Avg Slg       SLG   Avg OPS       OPS  \n",
       "yearID                                                    \n",
       "2006    0.375951  0.431873  0.431365  0.806778  0.807316  \n",
       "2007    0.414028  0.422695  0.443908  0.797053  0.857935  \n",
       "2008    0.373934  0.416234  0.437829  0.788014  0.811763  \n",
       "2009    0.410071  0.417760  0.477562  0.789990  0.887633  \n",
       "2010    0.354956  0.402841  0.408345  0.764982  0.763302  \n",
       "2011    0.379429  0.399010  0.424982  0.754093  0.804411  \n",
       "2012    0.361101  0.405323  0.396725  0.757914  0.757827  \n",
       "2013    0.392674  0.396471  0.446116  0.747341  0.838790  \n",
       "2014    0.339852  0.386368  0.388195  0.732154  0.728046  \n",
       "2015    0.351031  0.404579  0.412197  0.753734  0.763229  \n",
       "2016    0.392695  0.417405  0.428675  0.773860  0.821370  "
      ]
     },
     "execution_count": 70,
     "metadata": {},
     "output_type": "execute_result"
    }
   ],
   "source": [
    "# merge the league statistics and winners statistics into one dataframe and compare the two sets\n",
    "\n",
    "winners_vs_league = pd.merge(league_bat_metrics, ws_winners, right_index=True, left_index=True)\n",
    "winners_vs_league.rename(columns={'teamID':'WS Winner'}, inplace=True)\n",
    "#winners_vs_league[['WS Winner','R','Avg Runs','H','Avg Hits','BA','Bat Avg','OBP','Avg OBP','SLG','Avg Slg','OPS','Avg OPS']]\n",
    "winners_vs_league[['Avg Runs','R','Avg Hits','H','Bat Avg','BA','Avg OBP','OBP','Avg Slg','SLG','Avg OPS','OPS']]"
   ]
  },
  {
   "cell_type": "code",
   "execution_count": 71,
   "metadata": {
    "collapsed": false
   },
   "outputs": [],
   "source": [
    "# create boolean columns that check all the instances where the league average was greater than the World Series winner of \n",
    "# that year\n",
    "\n",
    "winners_vs_league['Runs_Checker'] = np.where((winners_vs_league['Avg Runs']) > (winners_vs_league['R']), True, False)\n",
    "winners_vs_league['Hits_Checker'] = np.where((winners_vs_league['Avg Hits']) > (winners_vs_league['H']), True, False)\n",
    "winners_vs_league['Bat_Avg_Checker'] = np.where((winners_vs_league['Bat Avg']) > (winners_vs_league['BA']), True, False)\n",
    "winners_vs_league['OBP_Checker'] = np.where((winners_vs_league['Avg OBP']) > (winners_vs_league['OBP']), True, False)\n",
    "winners_vs_league['Slg_Checker'] = np.where((winners_vs_league['Avg Slg']) > (winners_vs_league['SLG']), True, False)\n",
    "winners_vs_league['OPS_Checker'] = np.where((winners_vs_league['Avg OPS']) > (winners_vs_league['OPS']), True, False)\n",
    "\n",
    "winners_vs_league['Total'] = winners_vs_league.select_dtypes(include=['bool']).sum(axis=1)\n",
    "total = winners_vs_league.select_dtypes(include=['bool']).sum(axis=1)\n"
   ]
  },
  {
   "cell_type": "code",
   "execution_count": 100,
   "metadata": {
    "collapsed": false
   },
   "outputs": [
    {
     "name": "stdout",
     "output_type": "stream",
     "text": [
      "Populating the interactive namespace from numpy and matplotlib\n"
     ]
    },
    {
     "data": {
      "text/plain": [
       "<matplotlib.text.Text at 0x20b8f815780>"
      ]
     },
     "execution_count": 100,
     "metadata": {},
     "output_type": "execute_result"
    },
    {
     "data": {
      "image/png": "[encoded data removed]",
      "text/plain": [
       "<matplotlib.figure.Figure at 0x20b950dfdd8>"
      ]
     },
     "metadata": {},
     "output_type": "display_data"
    }
   ],
   "source": [
    "%pylab inline\n",
    "\n",
    "total.plot(kind='bar')\n",
    "plt.suptitle('# of Times the League Average Was Better Than the WS Winner')\n",
    "plt.xlabel('Year')\n",
    "plt.ylabel('# of Occurrences')\n"
   ]
  },
  {
   "cell_type": "markdown",
   "metadata": {
    "collapsed": true
   },
   "source": [
    "<h4>3b.) Compare the Championship team's batting statistics to the rest of the league from 2006-2016.</h4>"
   ]
  },
  {
   "cell_type": "code",
   "execution_count": 73,
   "metadata": {
    "collapsed": true
   },
   "outputs": [],
   "source": [
    "team_stats = pd.read_csv('Teams.csv')\n",
    "pitching_stats = pd.read_csv('Pitching.csv')"
   ]
  },
  {
   "cell_type": "code",
   "execution_count": 74,
   "metadata": {
    "collapsed": false
   },
   "outputs": [],
   "source": [
    "'''All calculations represent the league as a whole by year.'''\n",
    "# calculate the runs allowed\n",
    "# calculate the earned run average\n",
    "# calculate the WHIP (walks and hits per inning pitched)\n",
    "# calculate the strikeout average\n",
    "# calculate the saves average\n",
    "# calculate the Home Runs Allowed average\n",
    "\n",
    "avg_ra = team_stats.loc[(team_stats['yearID'] <= 2016) & (team_stats['yearID'] >= 2006)].groupby('yearID')['RA'].mean()\n",
    "avg_era = team_stats.loc[(team_stats['yearID'] <= 2016) & (team_stats['yearID'] >= 2006)].groupby('yearID')['ERA'].mean()\n",
    "avg_whip = ((team_stats.loc[(team_stats['yearID'] <= 2016) & (team_stats['yearID'] >= 2006)].groupby('yearID')['HA'].sum()) + (team_stats.loc[(team_stats['yearID'] <= 2016) & (team_stats['yearID'] >= 2006)].groupby('yearID')['BBA'].sum())) / 43740\n",
    "avg_strikeout = team_stats.loc[(team_stats['yearID'] <= 2016) & (team_stats['yearID'] >= 2006)].groupby('yearID')['SOA'].mean()\n",
    "avg_saves = team_stats.loc[(team_stats['yearID'] <= 2016) & (team_stats['yearID'] >= 2006)].groupby('yearID')['SV'].mean()\n",
    "avg_hr_allowed = team_stats.loc[(team_stats['yearID'] <= 2016) & (team_stats['yearID'] >= 2006)].groupby('yearID')['HRA'].mean()\n",
    "\n",
    "league_pitch_metrics = pd.concat([avg_ra, avg_era, avg_whip, avg_strikeout, avg_saves, avg_hr_allowed], axis=1)\n",
    "league_pitch_metrics.columns = ['Avg RA', 'Avg ERA', 'Avg WHIP', 'Avg Strikeout', 'Avg Saves', 'Avg HR Allowed']"
   ]
  },
  {
   "cell_type": "code",
   "execution_count": 75,
   "metadata": {
    "collapsed": false
   },
   "outputs": [],
   "source": [
    "# use the list of World Series winners and filter those team's pitching statistics\n",
    "\n",
    "champ_pitching_metrics = pd.merge(team_stats, wschamps_10yr, how='right', on=['yearID','teamID']).set_index('yearID')\n",
    "def whip(HA, BBA):\n",
    "    return (HA + BBA)/1458\n",
    "\n",
    "champ_pitching_metrics['WHIP'] = whip(champ_pitching_metrics['HA'], champ_pitching_metrics['BBA'])\n",
    "\n",
    "ws_winners_pitching = champ_pitching_metrics[['RA', 'ERA', 'WHIP', 'SOA', 'SV', 'HRA']]"
   ]
  },
  {
   "cell_type": "code",
   "execution_count": 76,
   "metadata": {
    "collapsed": false
   },
   "outputs": [
    {
     "data": {
      "text/html": [
       "<div>\n",
       "<table border=\"1\" class=\"dataframe\">\n",
       "  <thead>\n",
       "    <tr style=\"text-align: right;\">\n",
       "      <th></th>\n",
       "      <th>Avg RA</th>\n",
       "      <th>Avg ERA</th>\n",
       "      <th>Avg WHIP</th>\n",
       "      <th>Avg Strikeout</th>\n",
       "      <th>Avg Saves</th>\n",
       "      <th>Avg HR Allowed</th>\n",
       "      <th>RA</th>\n",
       "      <th>ERA</th>\n",
       "      <th>WHIP</th>\n",
       "      <th>SOA</th>\n",
       "      <th>SV</th>\n",
       "      <th>HRA</th>\n",
       "    </tr>\n",
       "    <tr>\n",
       "      <th>yearID</th>\n",
       "      <th></th>\n",
       "      <th></th>\n",
       "      <th></th>\n",
       "      <th></th>\n",
       "      <th></th>\n",
       "      <th></th>\n",
       "      <th></th>\n",
       "      <th></th>\n",
       "      <th></th>\n",
       "      <th></th>\n",
       "      <th></th>\n",
       "      <th></th>\n",
       "    </tr>\n",
       "  </thead>\n",
       "  <tbody>\n",
       "    <tr>\n",
       "      <th>2006</th>\n",
       "      <td>786.633333</td>\n",
       "      <td>4.521667</td>\n",
       "      <td>1.392775</td>\n",
       "      <td>1055.166667</td>\n",
       "      <td>40.033333</td>\n",
       "      <td>179.533333</td>\n",
       "      <td>762</td>\n",
       "      <td>4.54</td>\n",
       "      <td>1.357339</td>\n",
       "      <td>970</td>\n",
       "      <td>38</td>\n",
       "      <td>193</td>\n",
       "    </tr>\n",
       "    <tr>\n",
       "      <th>2007</th>\n",
       "      <td>777.400000</td>\n",
       "      <td>4.462667</td>\n",
       "      <td>1.395885</td>\n",
       "      <td>1072.966667</td>\n",
       "      <td>39.933333</td>\n",
       "      <td>165.233333</td>\n",
       "      <td>657</td>\n",
       "      <td>3.87</td>\n",
       "      <td>1.256516</td>\n",
       "      <td>1149</td>\n",
       "      <td>45</td>\n",
       "      <td>151</td>\n",
       "    </tr>\n",
       "    <tr>\n",
       "      <th>2008</th>\n",
       "      <td>752.833333</td>\n",
       "      <td>4.316667</td>\n",
       "      <td>1.378807</td>\n",
       "      <td>1096.133333</td>\n",
       "      <td>39.466667</td>\n",
       "      <td>162.600000</td>\n",
       "      <td>680</td>\n",
       "      <td>3.88</td>\n",
       "      <td>1.355967</td>\n",
       "      <td>1081</td>\n",
       "      <td>47</td>\n",
       "      <td>160</td>\n",
       "    </tr>\n",
       "    <tr>\n",
       "      <th>2009</th>\n",
       "      <td>747.300000</td>\n",
       "      <td>4.314000</td>\n",
       "      <td>1.375034</td>\n",
       "      <td>1119.700000</td>\n",
       "      <td>40.066667</td>\n",
       "      <td>168.066667</td>\n",
       "      <td>753</td>\n",
       "      <td>4.26</td>\n",
       "      <td>1.344307</td>\n",
       "      <td>1260</td>\n",
       "      <td>51</td>\n",
       "      <td>181</td>\n",
       "    </tr>\n",
       "    <tr>\n",
       "      <th>2010</th>\n",
       "      <td>710.266667</td>\n",
       "      <td>4.073333</td>\n",
       "      <td>1.333608</td>\n",
       "      <td>1143.533333</td>\n",
       "      <td>40.133333</td>\n",
       "      <td>153.766667</td>\n",
       "      <td>583</td>\n",
       "      <td>3.36</td>\n",
       "      <td>1.273663</td>\n",
       "      <td>1331</td>\n",
       "      <td>57</td>\n",
       "      <td>134</td>\n",
       "    </tr>\n",
       "    <tr>\n",
       "      <th>2011</th>\n",
       "      <td>693.600000</td>\n",
       "      <td>3.936667</td>\n",
       "      <td>1.309671</td>\n",
       "      <td>1149.600000</td>\n",
       "      <td>41.433333</td>\n",
       "      <td>151.733333</td>\n",
       "      <td>692</td>\n",
       "      <td>3.74</td>\n",
       "      <td>1.309328</td>\n",
       "      <td>1098</td>\n",
       "      <td>47</td>\n",
       "      <td>136</td>\n",
       "    </tr>\n",
       "    <tr>\n",
       "      <th>2012</th>\n",
       "      <td>700.566667</td>\n",
       "      <td>4.009333</td>\n",
       "      <td>1.297942</td>\n",
       "      <td>1214.200000</td>\n",
       "      <td>42.033333</td>\n",
       "      <td>164.466667</td>\n",
       "      <td>649</td>\n",
       "      <td>3.68</td>\n",
       "      <td>1.268861</td>\n",
       "      <td>1237</td>\n",
       "      <td>53</td>\n",
       "      <td>142</td>\n",
       "    </tr>\n",
       "    <tr>\n",
       "      <th>2013</th>\n",
       "      <td>675.166667</td>\n",
       "      <td>3.863333</td>\n",
       "      <td>1.297051</td>\n",
       "      <td>1223.666667</td>\n",
       "      <td>42.200000</td>\n",
       "      <td>155.366667</td>\n",
       "      <td>656</td>\n",
       "      <td>3.79</td>\n",
       "      <td>1.296296</td>\n",
       "      <td>1294</td>\n",
       "      <td>33</td>\n",
       "      <td>156</td>\n",
       "    </tr>\n",
       "    <tr>\n",
       "      <th>2014</th>\n",
       "      <td>658.700000</td>\n",
       "      <td>3.738000</td>\n",
       "      <td>1.271491</td>\n",
       "      <td>1248.033333</td>\n",
       "      <td>42.133333</td>\n",
       "      <td>139.533333</td>\n",
       "      <td>614</td>\n",
       "      <td>3.50</td>\n",
       "      <td>1.161866</td>\n",
       "      <td>1211</td>\n",
       "      <td>46</td>\n",
       "      <td>133</td>\n",
       "    </tr>\n",
       "    <tr>\n",
       "      <th>2015</th>\n",
       "      <td>688.233333</td>\n",
       "      <td>3.956333</td>\n",
       "      <td>1.284385</td>\n",
       "      <td>1248.200000</td>\n",
       "      <td>43.066667</td>\n",
       "      <td>163.633333</td>\n",
       "      <td>641</td>\n",
       "      <td>3.73</td>\n",
       "      <td>1.276406</td>\n",
       "      <td>1160</td>\n",
       "      <td>56</td>\n",
       "      <td>155</td>\n",
       "    </tr>\n",
       "    <tr>\n",
       "      <th>2016</th>\n",
       "      <td>724.800000</td>\n",
       "      <td>4.184333</td>\n",
       "      <td>1.311477</td>\n",
       "      <td>1299.400000</td>\n",
       "      <td>42.533333</td>\n",
       "      <td>187.000000</td>\n",
       "      <td>556</td>\n",
       "      <td>3.15</td>\n",
       "      <td>1.111111</td>\n",
       "      <td>1441</td>\n",
       "      <td>38</td>\n",
       "      <td>163</td>\n",
       "    </tr>\n",
       "  </tbody>\n",
       "</table>\n",
       "</div>"
      ],
      "text/plain": [
       "            Avg RA   Avg ERA  Avg WHIP  Avg Strikeout  Avg Saves  \\\n",
       "yearID                                                             \n",
       "2006    786.633333  4.521667  1.392775    1055.166667  40.033333   \n",
       "2007    777.400000  4.462667  1.395885    1072.966667  39.933333   \n",
       "2008    752.833333  4.316667  1.378807    1096.133333  39.466667   \n",
       "2009    747.300000  4.314000  1.375034    1119.700000  40.066667   \n",
       "2010    710.266667  4.073333  1.333608    1143.533333  40.133333   \n",
       "2011    693.600000  3.936667  1.309671    1149.600000  41.433333   \n",
       "2012    700.566667  4.009333  1.297942    1214.200000  42.033333   \n",
       "2013    675.166667  3.863333  1.297051    1223.666667  42.200000   \n",
       "2014    658.700000  3.738000  1.271491    1248.033333  42.133333   \n",
       "2015    688.233333  3.956333  1.284385    1248.200000  43.066667   \n",
       "2016    724.800000  4.184333  1.311477    1299.400000  42.533333   \n",
       "\n",
       "        Avg HR Allowed   RA   ERA      WHIP   SOA  SV  HRA  \n",
       "yearID                                                      \n",
       "2006        179.533333  762  4.54  1.357339   970  38  193  \n",
       "2007        165.233333  657  3.87  1.256516  1149  45  151  \n",
       "2008        162.600000  680  3.88  1.355967  1081  47  160  \n",
       "2009        168.066667  753  4.26  1.344307  1260  51  181  \n",
       "2010        153.766667  583  3.36  1.273663  1331  57  134  \n",
       "2011        151.733333  692  3.74  1.309328  1098  47  136  \n",
       "2012        164.466667  649  3.68  1.268861  1237  53  142  \n",
       "2013        155.366667  656  3.79  1.296296  1294  33  156  \n",
       "2014        139.533333  614  3.50  1.161866  1211  46  133  \n",
       "2015        163.633333  641  3.73  1.276406  1160  56  155  \n",
       "2016        187.000000  556  3.15  1.111111  1441  38  163  "
      ]
     },
     "execution_count": 76,
     "metadata": {},
     "output_type": "execute_result"
    }
   ],
   "source": [
    "# merge the league statistics and winners statistics into one dataframe and compare the two sets\n",
    "\n",
    "winners_vs_league_pitching = pd.merge(league_pitch_metrics, ws_winners_pitching, right_index=True, left_index=True)\n",
    "winners_vs_league_pitching.rename(columns={'teamID':'WS Winner'}, inplace=True)\n",
    "#winners_vs_league[['WS Winner','R','Avg Runs','H','Avg Hits','BA','Bat Avg','OBP','Avg OBP','SLG','Avg Slg','OPS','Avg OPS']]\n",
    "winners_vs_league_pitching[['Avg RA', 'Avg ERA', 'Avg WHIP', 'Avg Strikeout', 'Avg Saves', 'Avg HR Allowed', 'RA', 'ERA', 'WHIP', 'SOA', 'SV', 'HRA']]"
   ]
  },
  {
   "cell_type": "code",
   "execution_count": 77,
   "metadata": {
    "collapsed": false
   },
   "outputs": [],
   "source": [
    "# create boolean columns that check all the instances where the league average was greater than the World Series winner of \n",
    "# that year\n",
    "\n",
    "winners_vs_league_pitching['RA_Checker'] = np.where((winners_vs_league_pitching['Avg RA']) < (winners_vs_league_pitching['RA']), True, False)\n",
    "winners_vs_league_pitching['ERA_Checker'] = np.where((winners_vs_league_pitching['Avg ERA']) < (winners_vs_league_pitching['ERA']), True, False)\n",
    "winners_vs_league_pitching['WHIP_Checker'] = np.where((winners_vs_league_pitching['Avg WHIP']) < (winners_vs_league_pitching['WHIP']), True, False)\n",
    "winners_vs_league_pitching['SOA_Checker'] = np.where((winners_vs_league_pitching['Avg Strikeout']) > (winners_vs_league_pitching['SOA']), True, False)\n",
    "winners_vs_league_pitching['SV_Checker'] = np.where((winners_vs_league_pitching['Avg Saves']) > (winners_vs_league_pitching['SV']), True, False)\n",
    "winners_vs_league_pitching['HRA_Checker'] = np.where((winners_vs_league_pitching['Avg HR Allowed']) < (winners_vs_league_pitching['HRA']), True, False)\n",
    "\n",
    "winners_vs_league_pitching['Total'] = winners_vs_league_pitching.select_dtypes(include=['bool']).sum(axis=1)\n",
    "total_pitching = winners_vs_league_pitching.select_dtypes(include=['bool']).sum(axis=1)"
   ]
  },
  {
   "cell_type": "code",
   "execution_count": 101,
   "metadata": {
    "collapsed": false
   },
   "outputs": [
    {
     "name": "stdout",
     "output_type": "stream",
     "text": [
      "Populating the interactive namespace from numpy and matplotlib\n"
     ]
    },
    {
     "data": {
      "text/plain": [
       "<matplotlib.text.Text at 0x20b90436b70>"
      ]
     },
     "execution_count": 101,
     "metadata": {},
     "output_type": "execute_result"
    },
    {
     "data": {
      "image/png": "[encoded data removed]",
      "text/plain": [
       "<matplotlib.figure.Figure at 0x20b90f70cc0>"
      ]
     },
     "metadata": {},
     "output_type": "display_data"
    }
   ],
   "source": [
    "%pylab inline\n",
    "\n",
    "total_pitching.plot(kind='bar')\n",
    "plt.suptitle('# of Times the League Average Was Better Than the WS Winner')\n",
    "plt.xlabel('Year')\n",
    "plt.ylabel('# of Occurrences')\n"
   ]
  },
  {
   "cell_type": "code",
   "execution_count": 102,
   "metadata": {
    "collapsed": false
   },
   "outputs": [
    {
     "name": "stdout",
     "output_type": "stream",
     "text": [
      "Populating the interactive namespace from numpy and matplotlib\n"
     ]
    },
    {
     "data": {
      "text/plain": [
       "<matplotlib.legend.Legend at 0x20b9103dc18>"
      ]
     },
     "execution_count": 102,
     "metadata": {},
     "output_type": "execute_result"
    },
    {
     "data": {
      "image/png": "[encoded data removed]",
      "text/plain": [
       "<matplotlib.figure.Figure at 0x20b9129f860>"
      ]
     },
     "metadata": {},
     "output_type": "display_data"
    }
   ],
   "source": [
    "%pylab inline\n",
    "\n",
    "total.plot(label='Batting', kind='bar', align=\"center\");total_pitching.plot(label='Pitching', kind='bar', align=\"center\", width=.3, color='#EE3224')\n",
    "#plt.ylabel('Salary')\n",
    "plt.xlabel('Year')\n",
    "plt.ylabel('# of Occurrences')\n",
    "plt.suptitle('# Times League Metrics Were Better Than the Champion')\n",
    "plt.legend(loc='upper left')\n"
   ]
  },
  {
   "cell_type": "markdown",
   "metadata": {},
   "source": [
    "<div id=\"expression4\"><h2><font color= green>4. \"The Best Hitters Are Left Handed\"</font></h2></div><br>\n",
    "To determine if this saying is true or false, I will explore the following questions based on the past 10 years:<br>\n",
    "4a.) What handed batters finished in the top 10 in Batting Average?<br>\n",
    "4b.) What handed batters finished in the top 10 in Home Runs?<br>\n",
    "4c.) What handed batters finished in the top 10 in RBIs?<br>\n",
    "4d.) What handed batters finished in the top 10 in Hits?"
   ]
  },
  {
   "cell_type": "markdown",
   "metadata": {},
   "source": [
    "<h3>Observation:</h3><br>\n",
    "Out of the 4 different hitting metrics that we accounted for - Batting Average(BA), Home Runs(HR), Runs Batted In(RBI), and Hits(H) - during the last 10 years, right-handed hitters finished in the top-10 of each category almost twice as often as left-handed hitters. This may be due to the fact that left-handed hitters only account for about 25% of MLB players. Either way, the results of the investigation suggest that right-handed batters are the better hitters. \n",
    "<h3>Verdict: <font color='red'>FALSE*</font></h3>\n",
    "\n",
    "*Although analyzing the top-10 players for each batting statistic may have been the more thorough approach, it would still have been interesting to see the leader in each metric. If a left-handed hitter finished at the top of each analyzed metric, would that be enough to sway the verdict in the other direction? \n",
    "\n",
    "To some statisticians, a player's slugging percentage is a more accurate representation of how well a player is hitting. That being said, it may have been worth while to include that in the set of metrics that were analyzed. Excluding it from the research may be a shortcoming of trying to prove whether or not the expression is true or false."
   ]
  },
  {
   "cell_type": "markdown",
   "metadata": {},
   "source": [
    "Explore the code below to see what was used to analyze the data."
   ]
  },
  {
   "cell_type": "code",
   "execution_count": 96,
   "metadata": {
    "collapsed": false
   },
   "outputs": [
    {
     "data": {
      "text/plain": [
       "Index(['playerID', 'yearID', 'stint', 'teamID', 'lgID', 'G', 'AB', 'R', 'H',\n",
       "       '2B', '3B', 'HR', 'RBI', 'SB', 'CS', 'BB', 'SO', 'IBB', 'HBP', 'SH',\n",
       "       'SF', 'GIDP', 'BA'],\n",
       "      dtype='object')"
      ]
     },
     "execution_count": 96,
     "metadata": {},
     "output_type": "execute_result"
    }
   ],
   "source": [
    "# starting with the original code from your first post\n",
    "batting_stats = pd.read_csv('Batting.csv')\n",
    "master_info = pd.read_csv('Master.csv')\n",
    "\n",
    "def batting_average(H, AB):\n",
    "    return H / AB\n",
    "\n",
    "batting_stats['BA'] = batting_average(batting_stats['H'], batting_stats['AB'])\n",
    "batting_stats.columns"
   ]
  },
  {
   "cell_type": "code",
   "execution_count": 95,
   "metadata": {
    "collapsed": false
   },
   "outputs": [
    {
     "name": "stdout",
     "output_type": "stream",
     "text": [
      "<class 'pandas.core.frame.DataFrame'>\n",
      "RangeIndex: 102816 entries, 0 to 102815\n",
      "Data columns (total 23 columns):\n",
      "playerID    102816 non-null object\n",
      "yearID      102816 non-null int64\n",
      "stint       102816 non-null int64\n",
      "teamID      102816 non-null object\n",
      "lgID        102079 non-null object\n",
      "G           102816 non-null int64\n",
      "AB          102816 non-null int64\n",
      "R           102816 non-null int64\n",
      "H           102816 non-null int64\n",
      "2B          102816 non-null int64\n",
      "3B          102816 non-null int64\n",
      "HR          102816 non-null int64\n",
      "RBI         102392 non-null float64\n",
      "SB          101516 non-null float64\n",
      "CS          79360 non-null float64\n",
      "BB          102816 non-null int64\n",
      "SO          94978 non-null float64\n",
      "IBB         66251 non-null float64\n",
      "HBP         100006 non-null float64\n",
      "SH          96478 non-null float64\n",
      "SF          66782 non-null float64\n",
      "GIDP        76706 non-null float64\n",
      "BA          87435 non-null float64\n",
      "dtypes: float64(10), int64(10), object(3)\n",
      "memory usage: 18.0+ MB\n"
     ]
    }
   ],
   "source": [
    "#check batting stats for missing values\n",
    "\n",
    "batting_stats.info()"
   ]
  },
  {
   "cell_type": "code",
   "execution_count": 97,
   "metadata": {
    "collapsed": false
   },
   "outputs": [
    {
     "name": "stdout",
     "output_type": "stream",
     "text": [
      "<class 'pandas.core.frame.DataFrame'>\n",
      "RangeIndex: 19105 entries, 0 to 19104\n",
      "Data columns (total 24 columns):\n",
      "playerID        19105 non-null object\n",
      "birthYear       18973 non-null float64\n",
      "birthMonth      18803 non-null float64\n",
      "birthDay        18656 non-null float64\n",
      "birthCountry    19036 non-null object\n",
      "birthState      18534 non-null object\n",
      "birthCity       18925 non-null object\n",
      "deathYear       9441 non-null float64\n",
      "deathMonth      9440 non-null float64\n",
      "deathDay        9439 non-null float64\n",
      "deathCountry    9436 non-null object\n",
      "deathState      9390 non-null object\n",
      "deathCity       9431 non-null object\n",
      "nameFirst       19068 non-null object\n",
      "nameLast        19105 non-null object\n",
      "nameGiven       19068 non-null object\n",
      "weight          18251 non-null float64\n",
      "height          18320 non-null float64\n",
      "bats            17920 non-null object\n",
      "throws          18126 non-null object\n",
      "debut           18910 non-null object\n",
      "finalGame       18910 non-null object\n",
      "retroID         19049 non-null object\n",
      "bbrefID         19103 non-null object\n",
      "dtypes: float64(8), object(16)\n",
      "memory usage: 3.5+ MB\n"
     ]
    }
   ],
   "source": [
    "# check the master info dataset for missing values\n",
    "\n",
    "master_info.info()"
   ]
  },
  {
   "cell_type": "code",
   "execution_count": 82,
   "metadata": {
    "collapsed": false
   },
   "outputs": [],
   "source": [
    "batting_stats_info = pd.merge(batting_stats, master_info, how='left', on=['playerID'])\n",
    "top_10 = batting_stats_info.loc[(batting_stats_info['yearID'] <= 2016) & (batting_stats_info['yearID'] >= 2006)]\n",
    "most_hr = top_10.groupby('yearID')['HR'].apply(lambda grp: grp.nlargest(10))\n",
    "\n",
    "# flatten and extract index\n",
    "most_hr_indices= most_hr.reset_index().level_1\n",
    "\n",
    "# extract rows from top_10 that match indices\n",
    "extracted_rows=  most_hr_indices.apply(lambda x: top_10.loc[x][['bats','yearID']])\n",
    "\n",
    "# cross tabulate \n",
    "bats_counts_hr= pd.crosstab(extracted_rows.bats, extracted_rows.yearID, margins= True)"
   ]
  },
  {
   "cell_type": "code",
   "execution_count": 83,
   "metadata": {
    "collapsed": false
   },
   "outputs": [
    {
     "data": {
      "text/html": [
       "<div>\n",
       "<table border=\"1\" class=\"dataframe\">\n",
       "  <thead>\n",
       "    <tr style=\"text-align: right;\">\n",
       "      <th>yearID</th>\n",
       "      <th>2006</th>\n",
       "      <th>2007</th>\n",
       "      <th>2008</th>\n",
       "      <th>2009</th>\n",
       "      <th>2010</th>\n",
       "      <th>2011</th>\n",
       "      <th>2012</th>\n",
       "      <th>2013</th>\n",
       "      <th>2014</th>\n",
       "      <th>2015</th>\n",
       "      <th>2016</th>\n",
       "      <th>All</th>\n",
       "    </tr>\n",
       "    <tr>\n",
       "      <th>bats</th>\n",
       "      <th></th>\n",
       "      <th></th>\n",
       "      <th></th>\n",
       "      <th></th>\n",
       "      <th></th>\n",
       "      <th></th>\n",
       "      <th></th>\n",
       "      <th></th>\n",
       "      <th></th>\n",
       "      <th></th>\n",
       "      <th></th>\n",
       "      <th></th>\n",
       "    </tr>\n",
       "  </thead>\n",
       "  <tbody>\n",
       "    <tr>\n",
       "      <th>B</th>\n",
       "      <td>2</td>\n",
       "      <td>1</td>\n",
       "      <td>0</td>\n",
       "      <td>1</td>\n",
       "      <td>1</td>\n",
       "      <td>1</td>\n",
       "      <td>0</td>\n",
       "      <td>0</td>\n",
       "      <td>1</td>\n",
       "      <td>0</td>\n",
       "      <td>0</td>\n",
       "      <td>7</td>\n",
       "    </tr>\n",
       "    <tr>\n",
       "      <th>L</th>\n",
       "      <td>4</td>\n",
       "      <td>6</td>\n",
       "      <td>3</td>\n",
       "      <td>5</td>\n",
       "      <td>4</td>\n",
       "      <td>2</td>\n",
       "      <td>4</td>\n",
       "      <td>3</td>\n",
       "      <td>2</td>\n",
       "      <td>3</td>\n",
       "      <td>1</td>\n",
       "      <td>37</td>\n",
       "    </tr>\n",
       "    <tr>\n",
       "      <th>R</th>\n",
       "      <td>4</td>\n",
       "      <td>3</td>\n",
       "      <td>7</td>\n",
       "      <td>4</td>\n",
       "      <td>5</td>\n",
       "      <td>7</td>\n",
       "      <td>6</td>\n",
       "      <td>7</td>\n",
       "      <td>7</td>\n",
       "      <td>7</td>\n",
       "      <td>9</td>\n",
       "      <td>66</td>\n",
       "    </tr>\n",
       "    <tr>\n",
       "      <th>All</th>\n",
       "      <td>10</td>\n",
       "      <td>10</td>\n",
       "      <td>10</td>\n",
       "      <td>10</td>\n",
       "      <td>10</td>\n",
       "      <td>10</td>\n",
       "      <td>10</td>\n",
       "      <td>10</td>\n",
       "      <td>10</td>\n",
       "      <td>10</td>\n",
       "      <td>10</td>\n",
       "      <td>110</td>\n",
       "    </tr>\n",
       "  </tbody>\n",
       "</table>\n",
       "</div>"
      ],
      "text/plain": [
       "yearID  2006  2007  2008  2009  2010  2011  2012  2013  2014  2015  2016  All\n",
       "bats                                                                         \n",
       "B          2     1     0     1     1     1     0     0     1     0     0    7\n",
       "L          4     6     3     5     4     2     4     3     2     3     1   37\n",
       "R          4     3     7     4     5     7     6     7     7     7     9   66\n",
       "All       10    10    10    10    10    10    10    10    10    10    10  110"
      ]
     },
     "execution_count": 83,
     "metadata": {},
     "output_type": "execute_result"
    }
   ],
   "source": [
    "bats_counts_hr"
   ]
  },
  {
   "cell_type": "code",
   "execution_count": 84,
   "metadata": {
    "collapsed": true
   },
   "outputs": [],
   "source": [
    "batting_stats_info = pd.merge(batting_stats, master_info, how='left', on=['playerID'])\n",
    "top_10 = batting_stats_info.loc[(batting_stats_info['yearID'] <= 2016) & (batting_stats_info['yearID'] >= 2006)]\n",
    "most_rbi = top_10.groupby('yearID')['RBI'].apply(lambda grp: grp.nlargest(10))\n",
    "\n",
    "# flatten and extract index\n",
    "most_rbi_indices= most_rbi.reset_index().level_1\n",
    "\n",
    "# extract rows from top_10 that match indices\n",
    "extracted_rows=  most_rbi_indices.apply(lambda x: top_10.loc[x][['bats','yearID']])\n",
    "\n",
    "# cross tabulate \n",
    "bats_counts_rbi= pd.crosstab(extracted_rows.bats, extracted_rows.yearID, margins= True)"
   ]
  },
  {
   "cell_type": "code",
   "execution_count": 85,
   "metadata": {
    "collapsed": false
   },
   "outputs": [
    {
     "data": {
      "text/html": [
       "<div>\n",
       "<table border=\"1\" class=\"dataframe\">\n",
       "  <thead>\n",
       "    <tr style=\"text-align: right;\">\n",
       "      <th>yearID</th>\n",
       "      <th>2006</th>\n",
       "      <th>2007</th>\n",
       "      <th>2008</th>\n",
       "      <th>2009</th>\n",
       "      <th>2010</th>\n",
       "      <th>2011</th>\n",
       "      <th>2012</th>\n",
       "      <th>2013</th>\n",
       "      <th>2014</th>\n",
       "      <th>2015</th>\n",
       "      <th>2016</th>\n",
       "      <th>All</th>\n",
       "    </tr>\n",
       "    <tr>\n",
       "      <th>bats</th>\n",
       "      <th></th>\n",
       "      <th></th>\n",
       "      <th></th>\n",
       "      <th></th>\n",
       "      <th></th>\n",
       "      <th></th>\n",
       "      <th></th>\n",
       "      <th></th>\n",
       "      <th></th>\n",
       "      <th></th>\n",
       "      <th></th>\n",
       "      <th></th>\n",
       "    </tr>\n",
       "  </thead>\n",
       "  <tbody>\n",
       "    <tr>\n",
       "      <th>B</th>\n",
       "      <td>1</td>\n",
       "      <td>0</td>\n",
       "      <td>0</td>\n",
       "      <td>1</td>\n",
       "      <td>0</td>\n",
       "      <td>1</td>\n",
       "      <td>1</td>\n",
       "      <td>0</td>\n",
       "      <td>1</td>\n",
       "      <td>1</td>\n",
       "      <td>0</td>\n",
       "      <td>6</td>\n",
       "    </tr>\n",
       "    <tr>\n",
       "      <th>L</th>\n",
       "      <td>4</td>\n",
       "      <td>3</td>\n",
       "      <td>5</td>\n",
       "      <td>3</td>\n",
       "      <td>3</td>\n",
       "      <td>5</td>\n",
       "      <td>3</td>\n",
       "      <td>6</td>\n",
       "      <td>2</td>\n",
       "      <td>2</td>\n",
       "      <td>2</td>\n",
       "      <td>38</td>\n",
       "    </tr>\n",
       "    <tr>\n",
       "      <th>R</th>\n",
       "      <td>5</td>\n",
       "      <td>7</td>\n",
       "      <td>5</td>\n",
       "      <td>6</td>\n",
       "      <td>7</td>\n",
       "      <td>4</td>\n",
       "      <td>6</td>\n",
       "      <td>4</td>\n",
       "      <td>7</td>\n",
       "      <td>7</td>\n",
       "      <td>8</td>\n",
       "      <td>66</td>\n",
       "    </tr>\n",
       "    <tr>\n",
       "      <th>All</th>\n",
       "      <td>10</td>\n",
       "      <td>10</td>\n",
       "      <td>10</td>\n",
       "      <td>10</td>\n",
       "      <td>10</td>\n",
       "      <td>10</td>\n",
       "      <td>10</td>\n",
       "      <td>10</td>\n",
       "      <td>10</td>\n",
       "      <td>10</td>\n",
       "      <td>10</td>\n",
       "      <td>110</td>\n",
       "    </tr>\n",
       "  </tbody>\n",
       "</table>\n",
       "</div>"
      ],
      "text/plain": [
       "yearID  2006  2007  2008  2009  2010  2011  2012  2013  2014  2015  2016  All\n",
       "bats                                                                         \n",
       "B          1     0     0     1     0     1     1     0     1     1     0    6\n",
       "L          4     3     5     3     3     5     3     6     2     2     2   38\n",
       "R          5     7     5     6     7     4     6     4     7     7     8   66\n",
       "All       10    10    10    10    10    10    10    10    10    10    10  110"
      ]
     },
     "execution_count": 85,
     "metadata": {},
     "output_type": "execute_result"
    }
   ],
   "source": [
    "bats_counts_rbi"
   ]
  },
  {
   "cell_type": "code",
   "execution_count": 86,
   "metadata": {
    "collapsed": true
   },
   "outputs": [],
   "source": [
    "batting_stats_info = pd.merge(batting_stats, master_info, how='left', on=['playerID'])\n",
    "top_10 = batting_stats_info.loc[(batting_stats_info['yearID'] <= 2016) & (batting_stats_info['yearID'] >= 2006)]\n",
    "most_hits = top_10.groupby('yearID')['H'].apply(lambda grp: grp.nlargest(10))\n",
    "\n",
    "# flatten and extract index\n",
    "most_hits_indices= most_hits.reset_index().level_1\n",
    "\n",
    "# extract rows from top_10 that match indices\n",
    "extracted_rows=  most_hits_indices.apply(lambda x: top_10.loc[x][['bats','yearID']])\n",
    "\n",
    "# cross tabulate \n",
    "bats_counts_hits= pd.crosstab(extracted_rows.bats, extracted_rows.yearID, margins= True)"
   ]
  },
  {
   "cell_type": "code",
   "execution_count": 87,
   "metadata": {
    "collapsed": false
   },
   "outputs": [
    {
     "data": {
      "text/html": [
       "<div>\n",
       "<table border=\"1\" class=\"dataframe\">\n",
       "  <thead>\n",
       "    <tr style=\"text-align: right;\">\n",
       "      <th>yearID</th>\n",
       "      <th>2006</th>\n",
       "      <th>2007</th>\n",
       "      <th>2008</th>\n",
       "      <th>2009</th>\n",
       "      <th>2010</th>\n",
       "      <th>2011</th>\n",
       "      <th>2012</th>\n",
       "      <th>2013</th>\n",
       "      <th>2014</th>\n",
       "      <th>2015</th>\n",
       "      <th>2016</th>\n",
       "      <th>All</th>\n",
       "    </tr>\n",
       "    <tr>\n",
       "      <th>bats</th>\n",
       "      <th></th>\n",
       "      <th></th>\n",
       "      <th></th>\n",
       "      <th></th>\n",
       "      <th></th>\n",
       "      <th></th>\n",
       "      <th></th>\n",
       "      <th></th>\n",
       "      <th></th>\n",
       "      <th></th>\n",
       "      <th></th>\n",
       "      <th></th>\n",
       "    </tr>\n",
       "  </thead>\n",
       "  <tbody>\n",
       "    <tr>\n",
       "      <th>B</th>\n",
       "      <td>1</td>\n",
       "      <td>1</td>\n",
       "      <td>1</td>\n",
       "      <td>1</td>\n",
       "      <td>0</td>\n",
       "      <td>1</td>\n",
       "      <td>0</td>\n",
       "      <td>0</td>\n",
       "      <td>1</td>\n",
       "      <td>0</td>\n",
       "      <td>0</td>\n",
       "      <td>6</td>\n",
       "    </tr>\n",
       "    <tr>\n",
       "      <th>L</th>\n",
       "      <td>3</td>\n",
       "      <td>2</td>\n",
       "      <td>4</td>\n",
       "      <td>3</td>\n",
       "      <td>5</td>\n",
       "      <td>3</td>\n",
       "      <td>2</td>\n",
       "      <td>4</td>\n",
       "      <td>4</td>\n",
       "      <td>3</td>\n",
       "      <td>2</td>\n",
       "      <td>35</td>\n",
       "    </tr>\n",
       "    <tr>\n",
       "      <th>R</th>\n",
       "      <td>6</td>\n",
       "      <td>7</td>\n",
       "      <td>5</td>\n",
       "      <td>6</td>\n",
       "      <td>5</td>\n",
       "      <td>6</td>\n",
       "      <td>8</td>\n",
       "      <td>6</td>\n",
       "      <td>5</td>\n",
       "      <td>7</td>\n",
       "      <td>8</td>\n",
       "      <td>69</td>\n",
       "    </tr>\n",
       "    <tr>\n",
       "      <th>All</th>\n",
       "      <td>10</td>\n",
       "      <td>10</td>\n",
       "      <td>10</td>\n",
       "      <td>10</td>\n",
       "      <td>10</td>\n",
       "      <td>10</td>\n",
       "      <td>10</td>\n",
       "      <td>10</td>\n",
       "      <td>10</td>\n",
       "      <td>10</td>\n",
       "      <td>10</td>\n",
       "      <td>110</td>\n",
       "    </tr>\n",
       "  </tbody>\n",
       "</table>\n",
       "</div>"
      ],
      "text/plain": [
       "yearID  2006  2007  2008  2009  2010  2011  2012  2013  2014  2015  2016  All\n",
       "bats                                                                         \n",
       "B          1     1     1     1     0     1     0     0     1     0     0    6\n",
       "L          3     2     4     3     5     3     2     4     4     3     2   35\n",
       "R          6     7     5     6     5     6     8     6     5     7     8   69\n",
       "All       10    10    10    10    10    10    10    10    10    10    10  110"
      ]
     },
     "execution_count": 87,
     "metadata": {},
     "output_type": "execute_result"
    }
   ],
   "source": [
    "bats_counts_hits"
   ]
  },
  {
   "cell_type": "code",
   "execution_count": 88,
   "metadata": {
    "collapsed": false
   },
   "outputs": [],
   "source": [
    "batting_stats_info = pd.merge(batting_stats, master_info, how='left', on=['playerID'])\n",
    "top_10 = batting_stats_info.loc[(batting_stats_info['yearID'] <= 2016) & (batting_stats_info['yearID'] >= 2006)]\n",
    "most_ba = top_10.groupby('yearID')['BA'].apply(lambda grp: grp.nlargest(10))\n",
    "\n",
    "# flatten and extract index\n",
    "most_ba_indices= most_ba.reset_index().level_1\n",
    "\n",
    "# extract rows from top_10 that match indices\n",
    "extracted_rows=  most_ba_indices.apply(lambda x: top_10.loc[x][['bats','yearID']])\n",
    "\n",
    "# cross tabulate \n",
    "bats_counts_ba= pd.crosstab(extracted_rows.bats, extracted_rows.yearID, margins= True)"
   ]
  },
  {
   "cell_type": "code",
   "execution_count": 89,
   "metadata": {
    "collapsed": false
   },
   "outputs": [
    {
     "data": {
      "text/html": [
       "<div>\n",
       "<table border=\"1\" class=\"dataframe\">\n",
       "  <thead>\n",
       "    <tr style=\"text-align: right;\">\n",
       "      <th>yearID</th>\n",
       "      <th>2006</th>\n",
       "      <th>2007</th>\n",
       "      <th>2008</th>\n",
       "      <th>2009</th>\n",
       "      <th>2010</th>\n",
       "      <th>2011</th>\n",
       "      <th>2012</th>\n",
       "      <th>2013</th>\n",
       "      <th>2014</th>\n",
       "      <th>2015</th>\n",
       "      <th>2016</th>\n",
       "      <th>All</th>\n",
       "    </tr>\n",
       "    <tr>\n",
       "      <th>bats</th>\n",
       "      <th></th>\n",
       "      <th></th>\n",
       "      <th></th>\n",
       "      <th></th>\n",
       "      <th></th>\n",
       "      <th></th>\n",
       "      <th></th>\n",
       "      <th></th>\n",
       "      <th></th>\n",
       "      <th></th>\n",
       "      <th></th>\n",
       "      <th></th>\n",
       "    </tr>\n",
       "  </thead>\n",
       "  <tbody>\n",
       "    <tr>\n",
       "      <th>B</th>\n",
       "      <td>0</td>\n",
       "      <td>1</td>\n",
       "      <td>0</td>\n",
       "      <td>3</td>\n",
       "      <td>2</td>\n",
       "      <td>0</td>\n",
       "      <td>1</td>\n",
       "      <td>0</td>\n",
       "      <td>0</td>\n",
       "      <td>2</td>\n",
       "      <td>1</td>\n",
       "      <td>10</td>\n",
       "    </tr>\n",
       "    <tr>\n",
       "      <th>L</th>\n",
       "      <td>4</td>\n",
       "      <td>1</td>\n",
       "      <td>2</td>\n",
       "      <td>3</td>\n",
       "      <td>3</td>\n",
       "      <td>4</td>\n",
       "      <td>0</td>\n",
       "      <td>6</td>\n",
       "      <td>3</td>\n",
       "      <td>2</td>\n",
       "      <td>4</td>\n",
       "      <td>32</td>\n",
       "    </tr>\n",
       "    <tr>\n",
       "      <th>R</th>\n",
       "      <td>6</td>\n",
       "      <td>8</td>\n",
       "      <td>8</td>\n",
       "      <td>4</td>\n",
       "      <td>5</td>\n",
       "      <td>6</td>\n",
       "      <td>9</td>\n",
       "      <td>4</td>\n",
       "      <td>7</td>\n",
       "      <td>6</td>\n",
       "      <td>5</td>\n",
       "      <td>68</td>\n",
       "    </tr>\n",
       "    <tr>\n",
       "      <th>All</th>\n",
       "      <td>10</td>\n",
       "      <td>10</td>\n",
       "      <td>10</td>\n",
       "      <td>10</td>\n",
       "      <td>10</td>\n",
       "      <td>10</td>\n",
       "      <td>10</td>\n",
       "      <td>10</td>\n",
       "      <td>10</td>\n",
       "      <td>10</td>\n",
       "      <td>10</td>\n",
       "      <td>110</td>\n",
       "    </tr>\n",
       "  </tbody>\n",
       "</table>\n",
       "</div>"
      ],
      "text/plain": [
       "yearID  2006  2007  2008  2009  2010  2011  2012  2013  2014  2015  2016  All\n",
       "bats                                                                         \n",
       "B          0     1     0     3     2     0     1     0     0     2     1   10\n",
       "L          4     1     2     3     3     4     0     6     3     2     4   32\n",
       "R          6     8     8     4     5     6     9     4     7     6     5   68\n",
       "All       10    10    10    10    10    10    10    10    10    10    10  110"
      ]
     },
     "execution_count": 89,
     "metadata": {},
     "output_type": "execute_result"
    }
   ],
   "source": [
    "bats_counts_ba"
   ]
  },
  {
   "cell_type": "markdown",
   "metadata": {},
   "source": [
    "<h2>Resources Used for this Project:"
   ]
  },
  {
   "cell_type": "markdown",
   "metadata": {
    "collapsed": true
   },
   "source": [
    "https://discussions.udacity.com/t/using-nlargest-and-groupby/247062/7"
   ]
  },
  {
   "cell_type": "code",
   "execution_count": null,
   "metadata": {
    "collapsed": true
   },
   "outputs": [],
   "source": []
  }
 ],
 "metadata": {
  "kernelspec": {
   "display_name": "Python 3",
   "language": "python",
   "name": "python3"
  },
  "language_info": {
   "codemirror_mode": {
    "name": "ipython",
    "version": 3
   },
   "file_extension": ".py",
   "mimetype": "text/x-python",
   "name": "python",
   "nbconvert_exporter": "python",
   "pygments_lexer": "ipython3",
   "version": "3.6.0"
  }
 },
 "nbformat": 4,
 "nbformat_minor": 2
}
